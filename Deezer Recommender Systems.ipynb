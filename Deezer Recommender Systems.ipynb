{
 "cells": [
  {
   "cell_type": "markdown",
   "metadata": {
    "id": "sK9ANGckmGbm"
   },
   "source": [
    "# Recommender Systems\n",
    "As part of the course *Recommender Systems*, we were asked to create a music recommender system. We were provided with a dataset coming from the Kaggle website,  https://www.kaggle.com/c/dsg17-online-phase/.\n",
    "\n",
    "The goal was to use a recommender system to predict a song's probability to be listened to by a given user.\n",
    "First, we explored our dataset to gain a better understanding. Then, we tested different recommender models and evaluated their performance. Finally, we selected and developed one model that we used to try to win the competition."
   ]
  },
  {
   "cell_type": "markdown",
   "metadata": {
    "id": "1lsprhe6mRmp"
   },
   "source": [
    "## 1. Loading the Libraries"
   ]
  },
  {
   "cell_type": "code",
   "execution_count": null,
   "metadata": {
    "id": "zO4l90yO81OR"
   },
   "outputs": [],
   "source": [
    "# Hide output of this cell\n",
    "%%capture\n",
    "\n",
    "# Install packages\n",
    "!pip install surprise\n",
    "\n",
    "# Import packages\n",
    "import numpy as np\n",
    "import random\n",
    "import pandas as pd\n",
    "import os\n",
    "from matplotlib import pyplot as plt\n",
    "from collections import Counter, defaultdict\n",
    "import glob\n",
    "import pytz\n",
    "from datetime import datetime\n",
    "from google.colab import drive\n",
    "from scipy.sparse import coo_matrix\n",
    "from sklearn.preprocessing import normalize\n",
    "from sklearn.model_selection import train_test_split as train_test_split_sklearn\n",
    "from sklearn.model_selection import cross_val_score\n",
    "from sklearn.linear_model import LogisticRegression\n",
    "from sklearn.metrics import classification_report, confusion_matrix\n",
    "from sklearn.ensemble import GradientBoostingClassifier\n",
    "from surprise import SVD, SVDpp, KNNBaseline, BaselineOnly, KNNBasic, Dataset, Reader, accuracy\n",
    "from surprise.model_selection import train_test_split, cross_validate\n",
    "from itertools import permutations\n",
    "import datetime\n",
    "import seaborn as sns\n",
    "import heapq"
   ]
  },
  {
   "cell_type": "code",
   "execution_count": null,
   "metadata": {
    "colab": {
     "base_uri": "https://localhost:8080/"
    },
    "executionInfo": {
     "elapsed": 2433,
     "status": "ok",
     "timestamp": 1646064002888,
     "user": {
      "displayName": "Alex Zimm",
      "photoUrl": "https://lh3.googleusercontent.com/a/default-user=s64",
      "userId": "13653603778004721100"
     },
     "user_tz": -60
    },
    "id": "idQ50UrZ9AmC",
    "outputId": "f4ecd98a-e6af-4da3-faf5-0e9fcd6c30d5"
   },
   "outputs": [
    {
     "name": "stdout",
     "output_type": "stream",
     "text": [
      "Drive already mounted at /content/drive; to attempt to forcibly remount, call drive.mount(\"/content/drive\", force_remount=True).\n"
     ]
    }
   ],
   "source": [
    "# Mount Google Drive\n",
    "drive.mount('/content/drive')"
   ]
  },
  {
   "cell_type": "markdown",
   "metadata": {
    "id": "mGSiBfayTeJb"
   },
   "source": [
    "Since we were both working simultaneously and the model training took almost a day in some cases, we chose Google Colab to develop the code for this project."
   ]
  },
  {
   "cell_type": "markdown",
   "metadata": {
    "id": "yYnSeFE4mZTr"
   },
   "source": [
    "## 2. Loading the Dataset"
   ]
  },
  {
   "cell_type": "markdown",
   "metadata": {
    "id": "zz1nhKK23pur"
   },
   "source": [
    "**Data Source** \n",
    "\n",
    "https://www.kaggle.com/c/dsg17-online-phase/ \n",
    "\n",
    "\n",
    "**Data fields**\n",
    "- media_id: identifiant of the song listened by the user\n",
    "- album_id: identifiant of the album of the song\n",
    "- media_duration: duration of the song\n",
    "- user_gender:  gender of the user\n",
    "- user_id:  anonymized id of the user\n",
    "- context_type: type of content where the song was listened: playlist, album ...\n",
    "- release_date: release date of the song with the format YYYYMMDD\n",
    "- ts_listen: timestamp of the listening in UNIX time\n",
    "- platform_name: type of operating system\n",
    "- platform_family: type of device\n",
    "- user_age: age of the user\n",
    "- listen_type: if the songs was listened in a flow or not\n",
    "- artist_id: identifiant of the artist of the song\n",
    "- genre_id: identifiant of the genre of the song\n",
    "\n",
    "*Variable of Interest*\n",
    "- is_listened: 1 if the track was listened, 0 otherwise"
   ]
  },
  {
   "cell_type": "code",
   "execution_count": null,
   "metadata": {
    "colab": {
     "base_uri": "https://localhost:8080/",
     "height": 270
    },
    "executionInfo": {
     "elapsed": 11886,
     "status": "ok",
     "timestamp": 1646064014770,
     "user": {
      "displayName": "Alex Zimm",
      "photoUrl": "https://lh3.googleusercontent.com/a/default-user=s64",
      "userId": "13653603778004721100"
     },
     "user_tz": -60
    },
    "id": "8sCXP9ge9Qmw",
    "outputId": "76199e82-f192-44a2-cf57-f2568d8e0065"
   },
   "outputs": [
    {
     "data": {
      "text/html": [
       "\n",
       "  <div id=\"df-cf7f1461-164e-4176-b92d-26564ed4a754\">\n",
       "    <div class=\"colab-df-container\">\n",
       "      <div>\n",
       "<style scoped>\n",
       "    .dataframe tbody tr th:only-of-type {\n",
       "        vertical-align: middle;\n",
       "    }\n",
       "\n",
       "    .dataframe tbody tr th {\n",
       "        vertical-align: top;\n",
       "    }\n",
       "\n",
       "    .dataframe thead th {\n",
       "        text-align: right;\n",
       "    }\n",
       "</style>\n",
       "<table border=\"1\" class=\"dataframe\">\n",
       "  <thead>\n",
       "    <tr style=\"text-align: right;\">\n",
       "      <th></th>\n",
       "      <th>genre_id</th>\n",
       "      <th>ts_listen</th>\n",
       "      <th>media_id</th>\n",
       "      <th>album_id</th>\n",
       "      <th>context_type</th>\n",
       "      <th>release_date</th>\n",
       "      <th>platform_name</th>\n",
       "      <th>platform_family</th>\n",
       "      <th>media_duration</th>\n",
       "      <th>listen_type</th>\n",
       "      <th>user_gender</th>\n",
       "      <th>user_id</th>\n",
       "      <th>artist_id</th>\n",
       "      <th>user_age</th>\n",
       "      <th>is_listened</th>\n",
       "    </tr>\n",
       "  </thead>\n",
       "  <tbody>\n",
       "    <tr>\n",
       "      <th>0</th>\n",
       "      <td>25471</td>\n",
       "      <td>1480597215</td>\n",
       "      <td>222606</td>\n",
       "      <td>41774</td>\n",
       "      <td>12</td>\n",
       "      <td>20040704</td>\n",
       "      <td>1</td>\n",
       "      <td>0</td>\n",
       "      <td>223</td>\n",
       "      <td>0</td>\n",
       "      <td>0</td>\n",
       "      <td>9241</td>\n",
       "      <td>55164</td>\n",
       "      <td>29</td>\n",
       "      <td>0</td>\n",
       "    </tr>\n",
       "    <tr>\n",
       "      <th>1</th>\n",
       "      <td>25571</td>\n",
       "      <td>1480544735</td>\n",
       "      <td>250467</td>\n",
       "      <td>43941</td>\n",
       "      <td>0</td>\n",
       "      <td>20060301</td>\n",
       "      <td>2</td>\n",
       "      <td>1</td>\n",
       "      <td>171</td>\n",
       "      <td>0</td>\n",
       "      <td>0</td>\n",
       "      <td>16547</td>\n",
       "      <td>55830</td>\n",
       "      <td>30</td>\n",
       "      <td>1</td>\n",
       "    </tr>\n",
       "    <tr>\n",
       "      <th>2</th>\n",
       "      <td>16</td>\n",
       "      <td>1479563953</td>\n",
       "      <td>305197</td>\n",
       "      <td>48078</td>\n",
       "      <td>1</td>\n",
       "      <td>20140714</td>\n",
       "      <td>2</td>\n",
       "      <td>1</td>\n",
       "      <td>149</td>\n",
       "      <td>1</td>\n",
       "      <td>1</td>\n",
       "      <td>7665</td>\n",
       "      <td>2704</td>\n",
       "      <td>29</td>\n",
       "      <td>1</td>\n",
       "    </tr>\n",
       "    <tr>\n",
       "      <th>3</th>\n",
       "      <td>7</td>\n",
       "      <td>1480152098</td>\n",
       "      <td>900502</td>\n",
       "      <td>71521</td>\n",
       "      <td>0</td>\n",
       "      <td>20001030</td>\n",
       "      <td>0</td>\n",
       "      <td>0</td>\n",
       "      <td>240</td>\n",
       "      <td>0</td>\n",
       "      <td>1</td>\n",
       "      <td>1580</td>\n",
       "      <td>938</td>\n",
       "      <td>30</td>\n",
       "      <td>0</td>\n",
       "    </tr>\n",
       "    <tr>\n",
       "      <th>4</th>\n",
       "      <td>7</td>\n",
       "      <td>1478368974</td>\n",
       "      <td>542335</td>\n",
       "      <td>71718</td>\n",
       "      <td>0</td>\n",
       "      <td>20080215</td>\n",
       "      <td>0</td>\n",
       "      <td>0</td>\n",
       "      <td>150</td>\n",
       "      <td>0</td>\n",
       "      <td>1</td>\n",
       "      <td>1812</td>\n",
       "      <td>2939</td>\n",
       "      <td>24</td>\n",
       "      <td>1</td>\n",
       "    </tr>\n",
       "  </tbody>\n",
       "</table>\n",
       "</div>\n",
       "      <button class=\"colab-df-convert\" onclick=\"convertToInteractive('df-cf7f1461-164e-4176-b92d-26564ed4a754')\"\n",
       "              title=\"Convert this dataframe to an interactive table.\"\n",
       "              style=\"display:none;\">\n",
       "        \n",
       "  <svg xmlns=\"http://www.w3.org/2000/svg\" height=\"24px\"viewBox=\"0 0 24 24\"\n",
       "       width=\"24px\">\n",
       "    <path d=\"M0 0h24v24H0V0z\" fill=\"none\"/>\n",
       "    <path d=\"M18.56 5.44l.94 2.06.94-2.06 2.06-.94-2.06-.94-.94-2.06-.94 2.06-2.06.94zm-11 1L8.5 8.5l.94-2.06 2.06-.94-2.06-.94L8.5 2.5l-.94 2.06-2.06.94zm10 10l.94 2.06.94-2.06 2.06-.94-2.06-.94-.94-2.06-.94 2.06-2.06.94z\"/><path d=\"M17.41 7.96l-1.37-1.37c-.4-.4-.92-.59-1.43-.59-.52 0-1.04.2-1.43.59L10.3 9.45l-7.72 7.72c-.78.78-.78 2.05 0 2.83L4 21.41c.39.39.9.59 1.41.59.51 0 1.02-.2 1.41-.59l7.78-7.78 2.81-2.81c.8-.78.8-2.07 0-2.86zM5.41 20L4 18.59l7.72-7.72 1.47 1.35L5.41 20z\"/>\n",
       "  </svg>\n",
       "      </button>\n",
       "      \n",
       "  <style>\n",
       "    .colab-df-container {\n",
       "      display:flex;\n",
       "      flex-wrap:wrap;\n",
       "      gap: 12px;\n",
       "    }\n",
       "\n",
       "    .colab-df-convert {\n",
       "      background-color: #E8F0FE;\n",
       "      border: none;\n",
       "      border-radius: 50%;\n",
       "      cursor: pointer;\n",
       "      display: none;\n",
       "      fill: #1967D2;\n",
       "      height: 32px;\n",
       "      padding: 0 0 0 0;\n",
       "      width: 32px;\n",
       "    }\n",
       "\n",
       "    .colab-df-convert:hover {\n",
       "      background-color: #E2EBFA;\n",
       "      box-shadow: 0px 1px 2px rgba(60, 64, 67, 0.3), 0px 1px 3px 1px rgba(60, 64, 67, 0.15);\n",
       "      fill: #174EA6;\n",
       "    }\n",
       "\n",
       "    [theme=dark] .colab-df-convert {\n",
       "      background-color: #3B4455;\n",
       "      fill: #D2E3FC;\n",
       "    }\n",
       "\n",
       "    [theme=dark] .colab-df-convert:hover {\n",
       "      background-color: #434B5C;\n",
       "      box-shadow: 0px 1px 3px 1px rgba(0, 0, 0, 0.15);\n",
       "      filter: drop-shadow(0px 1px 2px rgba(0, 0, 0, 0.3));\n",
       "      fill: #FFFFFF;\n",
       "    }\n",
       "  </style>\n",
       "\n",
       "      <script>\n",
       "        const buttonEl =\n",
       "          document.querySelector('#df-cf7f1461-164e-4176-b92d-26564ed4a754 button.colab-df-convert');\n",
       "        buttonEl.style.display =\n",
       "          google.colab.kernel.accessAllowed ? 'block' : 'none';\n",
       "\n",
       "        async function convertToInteractive(key) {\n",
       "          const element = document.querySelector('#df-cf7f1461-164e-4176-b92d-26564ed4a754');\n",
       "          const dataTable =\n",
       "            await google.colab.kernel.invokeFunction('convertToInteractive',\n",
       "                                                     [key], {});\n",
       "          if (!dataTable) return;\n",
       "\n",
       "          const docLinkHtml = 'Like what you see? Visit the ' +\n",
       "            '<a target=\"_blank\" href=https://colab.research.google.com/notebooks/data_table.ipynb>data table notebook</a>'\n",
       "            + ' to learn more about interactive tables.';\n",
       "          element.innerHTML = '';\n",
       "          dataTable['output_type'] = 'display_data';\n",
       "          await google.colab.output.renderOutput(dataTable, element);\n",
       "          const docLink = document.createElement('div');\n",
       "          docLink.innerHTML = docLinkHtml;\n",
       "          element.appendChild(docLink);\n",
       "        }\n",
       "      </script>\n",
       "    </div>\n",
       "  </div>\n",
       "  "
      ],
      "text/plain": [
       "   genre_id   ts_listen  media_id  ...  artist_id  user_age  is_listened\n",
       "0     25471  1480597215    222606  ...      55164        29            0\n",
       "1     25571  1480544735    250467  ...      55830        30            1\n",
       "2        16  1479563953    305197  ...       2704        29            1\n",
       "3         7  1480152098    900502  ...        938        30            0\n",
       "4         7  1478368974    542335  ...       2939        24            1\n",
       "\n",
       "[5 rows x 15 columns]"
      ]
     },
     "execution_count": 5,
     "metadata": {},
     "output_type": "execute_result"
    }
   ],
   "source": [
    "path = '/content/drive/MyDrive/Collaborative Filtering/Recommender_Systems/RecommenderSystem_Storke_Zimmermann'\n",
    "train = pd.read_csv(f'{path}/data/train.csv')\n",
    "test = pd.read_csv(f'{path}/data/test.csv')\n",
    "train.head()"
   ]
  },
  {
   "cell_type": "markdown",
   "metadata": {
    "id": "Oh8emq7y3LKr"
   },
   "source": [
    "## 3. Data Transformation"
   ]
  },
  {
   "cell_type": "code",
   "execution_count": null,
   "metadata": {
    "colab": {
     "base_uri": "https://localhost:8080/"
    },
    "executionInfo": {
     "elapsed": 9,
     "status": "ok",
     "timestamp": 1645625903191,
     "user": {
      "displayName": "Alex Zimm",
      "photoUrl": "https://lh3.googleusercontent.com/a/default-user=s64",
      "userId": "13653603778004721100"
     },
     "user_tz": -60
    },
    "id": "nmVG1ix82hvQ",
    "outputId": "e4234a3d-b00c-497b-a42c-fbdf6f331766"
   },
   "outputs": [
    {
     "name": "stderr",
     "output_type": "stream",
     "text": [
      "/usr/local/lib/python3.7/dist-packages/ipykernel_launcher.py:2: FutureWarning: null_counts is deprecated. Use show_counts instead\n",
      "  \n"
     ]
    },
    {
     "name": "stdout",
     "output_type": "stream",
     "text": [
      "<class 'pandas.core.frame.DataFrame'>\n",
      "RangeIndex: 7558834 entries, 0 to 7558833\n",
      "Data columns (total 15 columns):\n",
      " #   Column           Non-Null Count    Dtype\n",
      "---  ------           --------------    -----\n",
      " 0   genre_id         7558834 non-null  int64\n",
      " 1   ts_listen        7558834 non-null  int64\n",
      " 2   media_id         7558834 non-null  int64\n",
      " 3   album_id         7558834 non-null  int64\n",
      " 4   context_type     7558834 non-null  int64\n",
      " 5   release_date     7558834 non-null  int64\n",
      " 6   platform_name    7558834 non-null  int64\n",
      " 7   platform_family  7558834 non-null  int64\n",
      " 8   media_duration   7558834 non-null  int64\n",
      " 9   listen_type      7558834 non-null  int64\n",
      " 10  user_gender      7558834 non-null  int64\n",
      " 11  user_id          7558834 non-null  int64\n",
      " 12  artist_id        7558834 non-null  int64\n",
      " 13  user_age         7558834 non-null  int64\n",
      " 14  is_listened      7558834 non-null  int64\n",
      "dtypes: int64(15)\n",
      "memory usage: 865.0 MB\n"
     ]
    }
   ],
   "source": [
    "## Global information about data types \n",
    "train.info(null_counts = True) ## null_counts = True: to count the number of entries"
   ]
  },
  {
   "cell_type": "markdown",
   "metadata": {
    "id": "f7gsj3jy5XIu"
   },
   "source": [
    "**genre_id**"
   ]
  },
  {
   "cell_type": "code",
   "execution_count": null,
   "metadata": {
    "colab": {
     "base_uri": "https://localhost:8080/"
    },
    "executionInfo": {
     "elapsed": 412,
     "status": "ok",
     "timestamp": 1645625903597,
     "user": {
      "displayName": "Alex Zimm",
      "photoUrl": "https://lh3.googleusercontent.com/a/default-user=s64",
      "userId": "13653603778004721100"
     },
     "user_tz": -60
    },
    "id": "CHt4gHdY3N2M",
    "outputId": "ef2b3159-ef84-401f-ee67-7be3edf46498"
   },
   "outputs": [
    {
     "name": "stdout",
     "output_type": "stream",
     "text": [
      "There are 2922 different genres in this dataset.\n"
     ]
    }
   ],
   "source": [
    "## Number of unique genres\n",
    "print(f'There are {train.genre_id.nunique()} different genres in this dataset.')\n",
    "\n",
    "## Make genre_id a categorical variable\n",
    "train['genre_id'] = train['genre_id'].astype(\"category\")"
   ]
  },
  {
   "cell_type": "markdown",
   "metadata": {
    "id": "nbAiTf_F5aFi"
   },
   "source": [
    "**ts_listened**"
   ]
  },
  {
   "cell_type": "code",
   "execution_count": null,
   "metadata": {
    "colab": {
     "base_uri": "https://localhost:8080/",
     "height": 143
    },
    "executionInfo": {
     "elapsed": 5910,
     "status": "ok",
     "timestamp": 1645625911113,
     "user": {
      "displayName": "Alex Zimm",
      "photoUrl": "https://lh3.googleusercontent.com/a/default-user=s64",
      "userId": "13653603778004721100"
     },
     "user_tz": -60
    },
    "id": "-qxy5Q1Q5dBp",
    "outputId": "71379309-8881-4515-dc66-817f73636e57"
   },
   "outputs": [
    {
     "data": {
      "text/html": [
       "\n",
       "  <div id=\"df-2b6b1728-6b52-44c7-a45d-d17c53e108c5\">\n",
       "    <div class=\"colab-df-container\">\n",
       "      <div>\n",
       "<style scoped>\n",
       "    .dataframe tbody tr th:only-of-type {\n",
       "        vertical-align: middle;\n",
       "    }\n",
       "\n",
       "    .dataframe tbody tr th {\n",
       "        vertical-align: top;\n",
       "    }\n",
       "\n",
       "    .dataframe thead th {\n",
       "        text-align: right;\n",
       "    }\n",
       "</style>\n",
       "<table border=\"1\" class=\"dataframe\">\n",
       "  <thead>\n",
       "    <tr style=\"text-align: right;\">\n",
       "      <th></th>\n",
       "      <th>ts_listen</th>\n",
       "      <th>time_listened</th>\n",
       "    </tr>\n",
       "  </thead>\n",
       "  <tbody>\n",
       "    <tr>\n",
       "      <th>0</th>\n",
       "      <td>1480597215</td>\n",
       "      <td>2016-12-01 13:00:15</td>\n",
       "    </tr>\n",
       "    <tr>\n",
       "      <th>1</th>\n",
       "      <td>1480544735</td>\n",
       "      <td>2016-11-30 22:25:35</td>\n",
       "    </tr>\n",
       "    <tr>\n",
       "      <th>2</th>\n",
       "      <td>1479563953</td>\n",
       "      <td>2016-11-19 13:59:13</td>\n",
       "    </tr>\n",
       "  </tbody>\n",
       "</table>\n",
       "</div>\n",
       "      <button class=\"colab-df-convert\" onclick=\"convertToInteractive('df-2b6b1728-6b52-44c7-a45d-d17c53e108c5')\"\n",
       "              title=\"Convert this dataframe to an interactive table.\"\n",
       "              style=\"display:none;\">\n",
       "        \n",
       "  <svg xmlns=\"http://www.w3.org/2000/svg\" height=\"24px\"viewBox=\"0 0 24 24\"\n",
       "       width=\"24px\">\n",
       "    <path d=\"M0 0h24v24H0V0z\" fill=\"none\"/>\n",
       "    <path d=\"M18.56 5.44l.94 2.06.94-2.06 2.06-.94-2.06-.94-.94-2.06-.94 2.06-2.06.94zm-11 1L8.5 8.5l.94-2.06 2.06-.94-2.06-.94L8.5 2.5l-.94 2.06-2.06.94zm10 10l.94 2.06.94-2.06 2.06-.94-2.06-.94-.94-2.06-.94 2.06-2.06.94z\"/><path d=\"M17.41 7.96l-1.37-1.37c-.4-.4-.92-.59-1.43-.59-.52 0-1.04.2-1.43.59L10.3 9.45l-7.72 7.72c-.78.78-.78 2.05 0 2.83L4 21.41c.39.39.9.59 1.41.59.51 0 1.02-.2 1.41-.59l7.78-7.78 2.81-2.81c.8-.78.8-2.07 0-2.86zM5.41 20L4 18.59l7.72-7.72 1.47 1.35L5.41 20z\"/>\n",
       "  </svg>\n",
       "      </button>\n",
       "      \n",
       "  <style>\n",
       "    .colab-df-container {\n",
       "      display:flex;\n",
       "      flex-wrap:wrap;\n",
       "      gap: 12px;\n",
       "    }\n",
       "\n",
       "    .colab-df-convert {\n",
       "      background-color: #E8F0FE;\n",
       "      border: none;\n",
       "      border-radius: 50%;\n",
       "      cursor: pointer;\n",
       "      display: none;\n",
       "      fill: #1967D2;\n",
       "      height: 32px;\n",
       "      padding: 0 0 0 0;\n",
       "      width: 32px;\n",
       "    }\n",
       "\n",
       "    .colab-df-convert:hover {\n",
       "      background-color: #E2EBFA;\n",
       "      box-shadow: 0px 1px 2px rgba(60, 64, 67, 0.3), 0px 1px 3px 1px rgba(60, 64, 67, 0.15);\n",
       "      fill: #174EA6;\n",
       "    }\n",
       "\n",
       "    [theme=dark] .colab-df-convert {\n",
       "      background-color: #3B4455;\n",
       "      fill: #D2E3FC;\n",
       "    }\n",
       "\n",
       "    [theme=dark] .colab-df-convert:hover {\n",
       "      background-color: #434B5C;\n",
       "      box-shadow: 0px 1px 3px 1px rgba(0, 0, 0, 0.15);\n",
       "      filter: drop-shadow(0px 1px 2px rgba(0, 0, 0, 0.3));\n",
       "      fill: #FFFFFF;\n",
       "    }\n",
       "  </style>\n",
       "\n",
       "      <script>\n",
       "        const buttonEl =\n",
       "          document.querySelector('#df-2b6b1728-6b52-44c7-a45d-d17c53e108c5 button.colab-df-convert');\n",
       "        buttonEl.style.display =\n",
       "          google.colab.kernel.accessAllowed ? 'block' : 'none';\n",
       "\n",
       "        async function convertToInteractive(key) {\n",
       "          const element = document.querySelector('#df-2b6b1728-6b52-44c7-a45d-d17c53e108c5');\n",
       "          const dataTable =\n",
       "            await google.colab.kernel.invokeFunction('convertToInteractive',\n",
       "                                                     [key], {});\n",
       "          if (!dataTable) return;\n",
       "\n",
       "          const docLinkHtml = 'Like what you see? Visit the ' +\n",
       "            '<a target=\"_blank\" href=https://colab.research.google.com/notebooks/data_table.ipynb>data table notebook</a>'\n",
       "            + ' to learn more about interactive tables.';\n",
       "          element.innerHTML = '';\n",
       "          dataTable['output_type'] = 'display_data';\n",
       "          await google.colab.output.renderOutput(dataTable, element);\n",
       "          const docLink = document.createElement('div');\n",
       "          docLink.innerHTML = docLinkHtml;\n",
       "          element.appendChild(docLink);\n",
       "        }\n",
       "      </script>\n",
       "    </div>\n",
       "  </div>\n",
       "  "
      ],
      "text/plain": [
       "    ts_listen       time_listened\n",
       "0  1480597215 2016-12-01 13:00:15\n",
       "1  1480544735 2016-11-30 22:25:35\n",
       "2  1479563953 2016-11-19 13:59:13"
      ]
     },
     "execution_count": 8,
     "metadata": {},
     "output_type": "execute_result"
    }
   ],
   "source": [
    "## Transform Unix timestamp into datetime\n",
    "train['time_listened'] = pd.to_datetime(train['ts_listen'], unit='s')\n",
    "\n",
    "## Create 2 new variables 'date_listened' and 'weekday_listened'\n",
    "# 'date_listened'\n",
    "train['date_listened'] = train['time_listened'].dt.date\n",
    "train['date_listened'] = pd.to_datetime(train['date_listened'], format='%Y-%m-%d')\n",
    "\n",
    "# 'weekday_listened'\n",
    "train['weekday_listened'] = train['time_listened'].dt.weekday\n",
    "train['weekday_listened'] = train['weekday_listened'].astype('category')\n",
    "\n",
    "## Visualise the results\n",
    "train[['ts_listen', 'time_listened']].head(3)"
   ]
  },
  {
   "cell_type": "markdown",
   "metadata": {
    "id": "cqeSmv3_6qiI"
   },
   "source": [
    "**Media_id**"
   ]
  },
  {
   "cell_type": "code",
   "execution_count": null,
   "metadata": {
    "colab": {
     "base_uri": "https://localhost:8080/"
    },
    "executionInfo": {
     "elapsed": 393,
     "status": "ok",
     "timestamp": 1645625911501,
     "user": {
      "displayName": "Alex Zimm",
      "photoUrl": "https://lh3.googleusercontent.com/a/default-user=s64",
      "userId": "13653603778004721100"
     },
     "user_tz": -60
    },
    "id": "0Ljnijur64aI",
    "outputId": "e7351104-5748-43f3-c42b-c83c798ecde2"
   },
   "outputs": [
    {
     "name": "stdout",
     "output_type": "stream",
     "text": [
      "There are 452975 different songs in this dataset.\n"
     ]
    }
   ],
   "source": [
    "## Number of unique songs\n",
    "print(f'There are {train.media_id.nunique()} different songs in this dataset.')\n",
    "\n",
    "## Make media_id a categorical variable\n",
    "train['media_id'] = train['media_id'].astype(\"category\")"
   ]
  },
  {
   "cell_type": "markdown",
   "metadata": {
    "id": "vTxFdFI28iy8"
   },
   "source": [
    "**album_id**"
   ]
  },
  {
   "cell_type": "code",
   "execution_count": null,
   "metadata": {
    "colab": {
     "base_uri": "https://localhost:8080/"
    },
    "executionInfo": {
     "elapsed": 621,
     "status": "ok",
     "timestamp": 1645625913789,
     "user": {
      "displayName": "Alex Zimm",
      "photoUrl": "https://lh3.googleusercontent.com/a/default-user=s64",
      "userId": "13653603778004721100"
     },
     "user_tz": -60
    },
    "id": "GY_J3US78iK0",
    "outputId": "d74b0df8-5f8e-403f-82e2-a11cfb09482d"
   },
   "outputs": [
    {
     "name": "stdout",
     "output_type": "stream",
     "text": [
      "There are 151471 different albums in this dataset.\n"
     ]
    }
   ],
   "source": [
    "## Number of unique albums\n",
    "print(f'There are {train.album_id.nunique()} different albums in this dataset.')\n",
    "\n",
    "## Make album_id a categorical variable\n",
    "train['album_id'] = train['album_id'].astype(\"category\")"
   ]
  },
  {
   "cell_type": "markdown",
   "metadata": {
    "id": "mOsp9zD287NY"
   },
   "source": [
    "**context_type**"
   ]
  },
  {
   "cell_type": "code",
   "execution_count": null,
   "metadata": {
    "colab": {
     "base_uri": "https://localhost:8080/"
    },
    "executionInfo": {
     "elapsed": 923,
     "status": "ok",
     "timestamp": 1645625916291,
     "user": {
      "displayName": "Alex Zimm",
      "photoUrl": "https://lh3.googleusercontent.com/a/default-user=s64",
      "userId": "13653603778004721100"
     },
     "user_tz": -60
    },
    "id": "XZSDF-RF88es",
    "outputId": "8e5affe3-2968-4580-cb5b-8441a3cf21f4"
   },
   "outputs": [
    {
     "name": "stdout",
     "output_type": "stream",
     "text": [
      "There are 74 different contexts (albums, playlists, etc.) in this dataset.\n"
     ]
    }
   ],
   "source": [
    "## Number of unique contexts\n",
    "print(f'There are {train.context_type.nunique()} different contexts (albums, playlists, etc.) in this dataset.')\n",
    "\n",
    "## Make context_type a categorical variable\n",
    "train['context_type'] = train['context_type'].astype(\"category\")"
   ]
  },
  {
   "cell_type": "markdown",
   "metadata": {
    "id": "Vs6OqlOv9rCb"
   },
   "source": [
    "**release_date**\n",
    "\n",
    "This variable contains noise, being a date in 3000. Therefore, we had to replace the last \"realistic\" date before this noisy data point. "
   ]
  },
  {
   "cell_type": "code",
   "execution_count": null,
   "metadata": {
    "id": "H8HOuKCJ_0ZV"
   },
   "outputs": [],
   "source": [
    "## Noise\n",
    "print(train['release_date'].max()) ## 30000101\n",
    "\n",
    "## Find the last occurence before 30000101\n",
    "print(sorted(list(train['release_date'].unique()))[-2]) ## 20170313"
   ]
  },
  {
   "cell_type": "code",
   "execution_count": null,
   "metadata": {
    "id": "feVuleIffn-o"
   },
   "outputs": [],
   "source": [
    "## Transform into NaN if date is after 20170313\n",
    "train['release_date'] = train['release_date'].astype('str') ## to avoid being changed into integer\n",
    "train['release_date'] = np.where(train['release_date'] > '20170313', np.nan, train['release_date']) ## to change due to previous cleaning\n",
    "\n",
    "## Transform into date format\n",
    "train['release_date'] = pd.to_datetime(train['release_date'], format='%Y%m%d')"
   ]
  },
  {
   "cell_type": "markdown",
   "metadata": {
    "id": "r8CxDzVYctt7"
   },
   "source": [
    "**platform_name**"
   ]
  },
  {
   "cell_type": "code",
   "execution_count": null,
   "metadata": {
    "colab": {
     "base_uri": "https://localhost:8080/"
    },
    "executionInfo": {
     "elapsed": 413,
     "status": "ok",
     "timestamp": 1645625954591,
     "user": {
      "displayName": "Alex Zimm",
      "photoUrl": "https://lh3.googleusercontent.com/a/default-user=s64",
      "userId": "13653603778004721100"
     },
     "user_tz": -60
    },
    "id": "rSyGAAGDctb7",
    "outputId": "6e918b6b-2a2d-4ce1-d8e0-06f635080104"
   },
   "outputs": [
    {
     "name": "stdout",
     "output_type": "stream",
     "text": [
      "There are 3 different platforms in this dataset.\n"
     ]
    }
   ],
   "source": [
    "## Number of unique platforms\n",
    "print(f'There are {train.platform_name.nunique()} different platforms in this dataset.')\n",
    "## 0,1,2: but we don't know their meaning\n",
    "\n",
    "## Make platform_name a categorical variable\n",
    "train['platform_name'] = train['platform_name'].astype(\"category\")"
   ]
  },
  {
   "cell_type": "markdown",
   "metadata": {
    "id": "3U3uMu3PdLHT"
   },
   "source": [
    "**platform_family**"
   ]
  },
  {
   "cell_type": "code",
   "execution_count": null,
   "metadata": {
    "colab": {
     "base_uri": "https://localhost:8080/"
    },
    "executionInfo": {
     "elapsed": 656,
     "status": "ok",
     "timestamp": 1645625956743,
     "user": {
      "displayName": "Alex Zimm",
      "photoUrl": "https://lh3.googleusercontent.com/a/default-user=s64",
      "userId": "13653603778004721100"
     },
     "user_tz": -60
    },
    "id": "GMeXrfEtdK4T",
    "outputId": "acf5f256-7615-4629-80fd-4d636d97fd86"
   },
   "outputs": [
    {
     "name": "stdout",
     "output_type": "stream",
     "text": [
      "There are 3 different platform families in this dataset.\n"
     ]
    }
   ],
   "source": [
    "## Number of unique platform families\n",
    "print(f'There are {train.platform_family.nunique()} different platform families in this dataset.')\n",
    "## 0,1,2: but we don't know their meaning\n",
    "\n",
    "## Make platform_family a categorical variable\n",
    "train['platform_family'] = train['platform_family'].astype(\"category\")"
   ]
  },
  {
   "cell_type": "markdown",
   "metadata": {
    "id": "W1Ydki5kdesb"
   },
   "source": [
    "**listen_type**"
   ]
  },
  {
   "cell_type": "code",
   "execution_count": null,
   "metadata": {
    "colab": {
     "base_uri": "https://localhost:8080/"
    },
    "executionInfo": {
     "elapsed": 881,
     "status": "ok",
     "timestamp": 1645625959097,
     "user": {
      "displayName": "Alex Zimm",
      "photoUrl": "https://lh3.googleusercontent.com/a/default-user=s64",
      "userId": "13653603778004721100"
     },
     "user_tz": -60
    },
    "id": "szr8qlKxdgQ8",
    "outputId": "924c844e-1804-40e6-937b-b8ba1b5bb8bd"
   },
   "outputs": [
    {
     "name": "stdout",
     "output_type": "stream",
     "text": [
      "There are 2 different listen types in this dataset.\n"
     ]
    }
   ],
   "source": [
    "print(f'There are {train.listen_type.nunique()} different listen types in this dataset.')\n",
    "\n",
    "## Binary Variable: \n",
    "## Make listen_type a categorical variable\n",
    "train['listen_type'] = train['listen_type'].astype(\"category\")"
   ]
  },
  {
   "cell_type": "markdown",
   "metadata": {
    "id": "F7ep8Ac2d9wi"
   },
   "source": [
    "**user_gender**"
   ]
  },
  {
   "cell_type": "code",
   "execution_count": null,
   "metadata": {
    "colab": {
     "base_uri": "https://localhost:8080/"
    },
    "executionInfo": {
     "elapsed": 426,
     "status": "ok",
     "timestamp": 1645625961223,
     "user": {
      "displayName": "Alex Zimm",
      "photoUrl": "https://lh3.googleusercontent.com/a/default-user=s64",
      "userId": "13653603778004721100"
     },
     "user_tz": -60
    },
    "id": "NwqGvcRTd-HB",
    "outputId": "68f21c7e-d673-4b01-f890-faca3dc2249e"
   },
   "outputs": [
    {
     "name": "stdout",
     "output_type": "stream",
     "text": [
      "There are 2 different user genders in this dataset.\n"
     ]
    }
   ],
   "source": [
    "print(f'There are {train.user_gender.nunique()} different user genders in this dataset.')\n",
    "\n",
    "## Binary Variable: \n",
    "## Make user_gender a categorical variable\n",
    "train['user_gender'] = train['user_gender'].astype(\"category\")"
   ]
  },
  {
   "cell_type": "markdown",
   "metadata": {
    "id": "PdIJoAfmeQIK"
   },
   "source": [
    "**user_id**"
   ]
  },
  {
   "cell_type": "code",
   "execution_count": null,
   "metadata": {
    "colab": {
     "base_uri": "https://localhost:8080/"
    },
    "executionInfo": {
     "elapsed": 930,
     "status": "ok",
     "timestamp": 1645625963302,
     "user": {
      "displayName": "Alex Zimm",
      "photoUrl": "https://lh3.googleusercontent.com/a/default-user=s64",
      "userId": "13653603778004721100"
     },
     "user_tz": -60
    },
    "id": "lNnR29jBeS1f",
    "outputId": "9d68f98c-a054-4331-e263-862ee729b64b"
   },
   "outputs": [
    {
     "name": "stdout",
     "output_type": "stream",
     "text": [
      "There are 19918 different users in this dataset.\n"
     ]
    }
   ],
   "source": [
    "print(f'There are {train.user_id.nunique()} different users in this dataset.')\n",
    "\n",
    "## Make user_id a categorical variable\n",
    "train['user_id'] = train['user_id'].astype(\"category\")"
   ]
  },
  {
   "cell_type": "markdown",
   "metadata": {
    "id": "_Og_riuhelW0"
   },
   "source": [
    "**artist_id**"
   ]
  },
  {
   "cell_type": "code",
   "execution_count": null,
   "metadata": {
    "colab": {
     "base_uri": "https://localhost:8080/"
    },
    "executionInfo": {
     "elapsed": 377,
     "status": "ok",
     "timestamp": 1645625965069,
     "user": {
      "displayName": "Alex Zimm",
      "photoUrl": "https://lh3.googleusercontent.com/a/default-user=s64",
      "userId": "13653603778004721100"
     },
     "user_tz": -60
    },
    "id": "abi0ljmuelnl",
    "outputId": "232dc99f-904e-45c3-cb93-21066892b172"
   },
   "outputs": [
    {
     "name": "stdout",
     "output_type": "stream",
     "text": [
      "There are 67142 different artists in this dataset.\n"
     ]
    }
   ],
   "source": [
    "print(f'There are {train.artist_id.nunique()} different artists in this dataset.')\n",
    "\n",
    "## Make artist_id a categorical variable\n",
    "train['artist_id'] = train['artist_id'].astype(\"category\")"
   ]
  },
  {
   "cell_type": "markdown",
   "metadata": {
    "id": "nLQmkpZPeyxn"
   },
   "source": [
    "**is_listened**"
   ]
  },
  {
   "cell_type": "code",
   "execution_count": null,
   "metadata": {
    "colab": {
     "base_uri": "https://localhost:8080/"
    },
    "executionInfo": {
     "elapsed": 242,
     "status": "ok",
     "timestamp": 1645625967254,
     "user": {
      "displayName": "Alex Zimm",
      "photoUrl": "https://lh3.googleusercontent.com/a/default-user=s64",
      "userId": "13653603778004721100"
     },
     "user_tz": -60
    },
    "id": "qBCF29YDezHV",
    "outputId": "0b45e630-947c-4df0-e774-575c1909fb42"
   },
   "outputs": [
    {
     "name": "stdout",
     "output_type": "stream",
     "text": [
      "The target variable \"is_listened\" takes 2 different values.\n"
     ]
    }
   ],
   "source": [
    "print(f'The target variable \"is_listened\" takes {train.is_listened.nunique()} different values.')\n",
    "\n",
    "## Our variable of interest & binary variable\n",
    "## Make is_listened a categorical variable\n",
    "train['is_listened'] = train['is_listened'].astype(\"category\")"
   ]
  },
  {
   "cell_type": "markdown",
   "metadata": {
    "id": "7MGW64JYy6A8"
   },
   "source": [
    "## 4. Exploratory Analysis"
   ]
  },
  {
   "cell_type": "markdown",
   "metadata": {
    "id": "Q1xWetcLmfcn"
   },
   "source": [
    "### Size of the Dataset"
   ]
  },
  {
   "cell_type": "code",
   "execution_count": null,
   "metadata": {
    "colab": {
     "base_uri": "https://localhost:8080/"
    },
    "executionInfo": {
     "elapsed": 223,
     "status": "ok",
     "timestamp": 1645625969663,
     "user": {
      "displayName": "Alex Zimm",
      "photoUrl": "https://lh3.googleusercontent.com/a/default-user=s64",
      "userId": "13653603778004721100"
     },
     "user_tz": -60
    },
    "id": "UUdm2XpRLr_l",
    "outputId": "b646c41b-0b1a-49cd-9b68-9edeae2e7f21"
   },
   "outputs": [
    {
     "data": {
      "text/plain": [
       "7558834"
      ]
     },
     "execution_count": 20,
     "metadata": {},
     "output_type": "execute_result"
    }
   ],
   "source": [
    "## Total number of records\n",
    "len(train)"
   ]
  },
  {
   "cell_type": "markdown",
   "metadata": {
    "id": "JIZ3zuwQ5AlW"
   },
   "source": [
    "There are over 7.5 million songs in the train dataset."
   ]
  },
  {
   "cell_type": "markdown",
   "metadata": {
    "id": "mJiLeV2ImBLH"
   },
   "source": [
    "### Users"
   ]
  },
  {
   "cell_type": "markdown",
   "metadata": {
    "id": "ENHHA68F1270"
   },
   "source": [
    "#### Activity /Frequency of Users"
   ]
  },
  {
   "cell_type": "code",
   "execution_count": null,
   "metadata": {
    "id": "MpS_MDA717Su"
   },
   "outputs": [],
   "source": [
    "## Count the number of songs (listened and non-listened) per user\n",
    "\n",
    "## Group by the number of songs \n",
    "## & count the number of users that lisstened to that number of songs\n",
    "df_usr_nsong = train[['media_id', 'user_id']].groupby('user_id').count().reset_index( ## count number of songs per user\n",
    "                          ).groupby('media_id').count().reset_index() ## group & count number of user per number of songs\n",
    "\n",
    "## Rename columns\n",
    "df_usr_nsong.rename(columns = {'media_id': 'nb_songs', \n",
    "                               'user_id': 'nb_users'}, inplace = True)"
   ]
  },
  {
   "cell_type": "code",
   "execution_count": null,
   "metadata": {
    "colab": {
     "base_uri": "https://localhost:8080/",
     "height": 423
    },
    "executionInfo": {
     "elapsed": 345,
     "status": "ok",
     "timestamp": 1645625974988,
     "user": {
      "displayName": "Alex Zimm",
      "photoUrl": "https://lh3.googleusercontent.com/a/default-user=s64",
      "userId": "13653603778004721100"
     },
     "user_tz": -60
    },
    "id": "bdWtUO1mKOr1",
    "outputId": "253b7e7c-ebd6-4501-ed3b-ccc59cd0de3f"
   },
   "outputs": [
    {
     "data": {
      "text/html": [
       "\n",
       "  <div id=\"df-12e02824-9385-4331-9e64-f8b4596f66d9\">\n",
       "    <div class=\"colab-df-container\">\n",
       "      <div>\n",
       "<style scoped>\n",
       "    .dataframe tbody tr th:only-of-type {\n",
       "        vertical-align: middle;\n",
       "    }\n",
       "\n",
       "    .dataframe tbody tr th {\n",
       "        vertical-align: top;\n",
       "    }\n",
       "\n",
       "    .dataframe thead th {\n",
       "        text-align: right;\n",
       "    }\n",
       "</style>\n",
       "<table border=\"1\" class=\"dataframe\">\n",
       "  <thead>\n",
       "    <tr style=\"text-align: right;\">\n",
       "      <th></th>\n",
       "      <th>nb_songs</th>\n",
       "      <th>nb_users</th>\n",
       "    </tr>\n",
       "  </thead>\n",
       "  <tbody>\n",
       "    <tr>\n",
       "      <th>0</th>\n",
       "      <td>1</td>\n",
       "      <td>252</td>\n",
       "    </tr>\n",
       "    <tr>\n",
       "      <th>1</th>\n",
       "      <td>2</td>\n",
       "      <td>127</td>\n",
       "    </tr>\n",
       "    <tr>\n",
       "      <th>2</th>\n",
       "      <td>3</td>\n",
       "      <td>113</td>\n",
       "    </tr>\n",
       "    <tr>\n",
       "      <th>3</th>\n",
       "      <td>4</td>\n",
       "      <td>75</td>\n",
       "    </tr>\n",
       "    <tr>\n",
       "      <th>4</th>\n",
       "      <td>5</td>\n",
       "      <td>95</td>\n",
       "    </tr>\n",
       "    <tr>\n",
       "      <th>...</th>\n",
       "      <td>...</td>\n",
       "      <td>...</td>\n",
       "    </tr>\n",
       "    <tr>\n",
       "      <th>2022</th>\n",
       "      <td>5426</td>\n",
       "      <td>1</td>\n",
       "    </tr>\n",
       "    <tr>\n",
       "      <th>2023</th>\n",
       "      <td>5581</td>\n",
       "      <td>1</td>\n",
       "    </tr>\n",
       "    <tr>\n",
       "      <th>2024</th>\n",
       "      <td>6211</td>\n",
       "      <td>1</td>\n",
       "    </tr>\n",
       "    <tr>\n",
       "      <th>2025</th>\n",
       "      <td>6240</td>\n",
       "      <td>1</td>\n",
       "    </tr>\n",
       "    <tr>\n",
       "      <th>2026</th>\n",
       "      <td>6317</td>\n",
       "      <td>1</td>\n",
       "    </tr>\n",
       "  </tbody>\n",
       "</table>\n",
       "<p>2027 rows × 2 columns</p>\n",
       "</div>\n",
       "      <button class=\"colab-df-convert\" onclick=\"convertToInteractive('df-12e02824-9385-4331-9e64-f8b4596f66d9')\"\n",
       "              title=\"Convert this dataframe to an interactive table.\"\n",
       "              style=\"display:none;\">\n",
       "        \n",
       "  <svg xmlns=\"http://www.w3.org/2000/svg\" height=\"24px\"viewBox=\"0 0 24 24\"\n",
       "       width=\"24px\">\n",
       "    <path d=\"M0 0h24v24H0V0z\" fill=\"none\"/>\n",
       "    <path d=\"M18.56 5.44l.94 2.06.94-2.06 2.06-.94-2.06-.94-.94-2.06-.94 2.06-2.06.94zm-11 1L8.5 8.5l.94-2.06 2.06-.94-2.06-.94L8.5 2.5l-.94 2.06-2.06.94zm10 10l.94 2.06.94-2.06 2.06-.94-2.06-.94-.94-2.06-.94 2.06-2.06.94z\"/><path d=\"M17.41 7.96l-1.37-1.37c-.4-.4-.92-.59-1.43-.59-.52 0-1.04.2-1.43.59L10.3 9.45l-7.72 7.72c-.78.78-.78 2.05 0 2.83L4 21.41c.39.39.9.59 1.41.59.51 0 1.02-.2 1.41-.59l7.78-7.78 2.81-2.81c.8-.78.8-2.07 0-2.86zM5.41 20L4 18.59l7.72-7.72 1.47 1.35L5.41 20z\"/>\n",
       "  </svg>\n",
       "      </button>\n",
       "      \n",
       "  <style>\n",
       "    .colab-df-container {\n",
       "      display:flex;\n",
       "      flex-wrap:wrap;\n",
       "      gap: 12px;\n",
       "    }\n",
       "\n",
       "    .colab-df-convert {\n",
       "      background-color: #E8F0FE;\n",
       "      border: none;\n",
       "      border-radius: 50%;\n",
       "      cursor: pointer;\n",
       "      display: none;\n",
       "      fill: #1967D2;\n",
       "      height: 32px;\n",
       "      padding: 0 0 0 0;\n",
       "      width: 32px;\n",
       "    }\n",
       "\n",
       "    .colab-df-convert:hover {\n",
       "      background-color: #E2EBFA;\n",
       "      box-shadow: 0px 1px 2px rgba(60, 64, 67, 0.3), 0px 1px 3px 1px rgba(60, 64, 67, 0.15);\n",
       "      fill: #174EA6;\n",
       "    }\n",
       "\n",
       "    [theme=dark] .colab-df-convert {\n",
       "      background-color: #3B4455;\n",
       "      fill: #D2E3FC;\n",
       "    }\n",
       "\n",
       "    [theme=dark] .colab-df-convert:hover {\n",
       "      background-color: #434B5C;\n",
       "      box-shadow: 0px 1px 3px 1px rgba(0, 0, 0, 0.15);\n",
       "      filter: drop-shadow(0px 1px 2px rgba(0, 0, 0, 0.3));\n",
       "      fill: #FFFFFF;\n",
       "    }\n",
       "  </style>\n",
       "\n",
       "      <script>\n",
       "        const buttonEl =\n",
       "          document.querySelector('#df-12e02824-9385-4331-9e64-f8b4596f66d9 button.colab-df-convert');\n",
       "        buttonEl.style.display =\n",
       "          google.colab.kernel.accessAllowed ? 'block' : 'none';\n",
       "\n",
       "        async function convertToInteractive(key) {\n",
       "          const element = document.querySelector('#df-12e02824-9385-4331-9e64-f8b4596f66d9');\n",
       "          const dataTable =\n",
       "            await google.colab.kernel.invokeFunction('convertToInteractive',\n",
       "                                                     [key], {});\n",
       "          if (!dataTable) return;\n",
       "\n",
       "          const docLinkHtml = 'Like what you see? Visit the ' +\n",
       "            '<a target=\"_blank\" href=https://colab.research.google.com/notebooks/data_table.ipynb>data table notebook</a>'\n",
       "            + ' to learn more about interactive tables.';\n",
       "          element.innerHTML = '';\n",
       "          dataTable['output_type'] = 'display_data';\n",
       "          await google.colab.output.renderOutput(dataTable, element);\n",
       "          const docLink = document.createElement('div');\n",
       "          docLink.innerHTML = docLinkHtml;\n",
       "          element.appendChild(docLink);\n",
       "        }\n",
       "      </script>\n",
       "    </div>\n",
       "  </div>\n",
       "  "
      ],
      "text/plain": [
       "      nb_songs  nb_users\n",
       "0            1       252\n",
       "1            2       127\n",
       "2            3       113\n",
       "3            4        75\n",
       "4            5        95\n",
       "...        ...       ...\n",
       "2022      5426         1\n",
       "2023      5581         1\n",
       "2024      6211         1\n",
       "2025      6240         1\n",
       "2026      6317         1\n",
       "\n",
       "[2027 rows x 2 columns]"
      ]
     },
     "execution_count": 22,
     "metadata": {},
     "output_type": "execute_result"
    }
   ],
   "source": [
    "df_usr_nsong"
   ]
  },
  {
   "cell_type": "markdown",
   "metadata": {
    "id": "cKm73c9xnKjX"
   },
   "source": [
    "#### Age of Users\n"
   ]
  },
  {
   "cell_type": "code",
   "execution_count": null,
   "metadata": {
    "colab": {
     "base_uri": "https://localhost:8080/",
     "height": 339
    },
    "executionInfo": {
     "elapsed": 5663,
     "status": "ok",
     "timestamp": 1646064095487,
     "user": {
      "displayName": "Alex Zimm",
      "photoUrl": "https://lh3.googleusercontent.com/a/default-user=s64",
      "userId": "13653603778004721100"
     },
     "user_tz": -60
    },
    "id": "Z9VLXViZnH-a",
    "outputId": "f99ecd51-fa8a-4dd2-f93a-f8f0931bbccf"
   },
   "outputs": [
    {
     "data": {
      "image/png": "[encoded data removed]",
      "text/plain": [
       "<Figure size 720x360 with 1 Axes>"
      ]
     },
     "metadata": {
      "needs_background": "light"
     },
     "output_type": "display_data"
    }
   ],
   "source": [
    "## Select and aggregate data\n",
    "usr_age = train[['user_id', 'user_age']].groupby('user_age').nunique().reset_index()\n",
    "\n",
    "## Plot results\n",
    "plt.figure(figsize=(10,5))\n",
    "gph2 = sns.barplot(x = 'user_age',\n",
    "                   y = 'user_id',\n",
    "                   data = usr_age,\n",
    "                   color = '#eb97a3')\n",
    "\n",
    "## Add labels\n",
    "plt.xlabel(\"Age\", size=16)\n",
    "plt.ylabel(\"Number of Users\", size=16)\n",
    "\n",
    "## Disable Y-axis\n",
    "ax = plt.gca() ## Get the Axes\n",
    "ax.get_yaxis().set_visible(False) ## Hide Y-Axis\n",
    "\n",
    "## Add total per bar\n",
    "## Source: https://www.geeksforgeeks.org/how-to-annotate-bars-in-barplot-with-matplotlib-in-python/\n",
    "for bar in gph2.patches:\n",
    "    gph2.annotate(format(bar.get_height(), '.0f'), ## total per bar\n",
    "                  (bar.get_x() + bar.get_width() / 2, ## position\n",
    "                   bar.get_height()), ## position\n",
    "                  ha='center', va='center', ## position\n",
    "                  size=10, ## font size\n",
    "                  xytext=(0, 5), ## position of number above bar\n",
    "                  textcoords='offset points')\n",
    "\n",
    "\n",
    "plt.show()"
   ]
  },
  {
   "cell_type": "markdown",
   "metadata": {
    "id": "tjKdh_ACZVi4"
   },
   "source": [
    "#### Gender"
   ]
  },
  {
   "cell_type": "code",
   "execution_count": null,
   "metadata": {
    "colab": {
     "base_uri": "https://localhost:8080/",
     "height": 339
    },
    "executionInfo": {
     "elapsed": 2254,
     "status": "ok",
     "timestamp": 1645625985107,
     "user": {
      "displayName": "Alex Zimm",
      "photoUrl": "https://lh3.googleusercontent.com/a/default-user=s64",
      "userId": "13653603778004721100"
     },
     "user_tz": -60
    },
    "id": "hifez2VPzgYL",
    "outputId": "0214025a-ca08-4d7f-e63f-a79b4a13b488"
   },
   "outputs": [
    {
     "data": {
      "image/png": "[encoded data removed]",
      "text/plain": [
       "<Figure size 720x360 with 1 Axes>"
      ]
     },
     "metadata": {
      "needs_background": "light"
     },
     "output_type": "display_data"
    }
   ],
   "source": [
    "## Select and aggregate data\n",
    "usr_gender = train[['user_id', 'user_gender']].groupby('user_gender').nunique().reset_index()\n",
    "\n",
    "## Plot results\n",
    "plt.figure(figsize=(10,5))\n",
    "gph3 = sns.barplot(x = 'user_gender',\n",
    "                   y = 'user_id',\n",
    "                   data = usr_gender,\n",
    "                   color = '#eb97a3')\n",
    "\n",
    "## Add labels\n",
    "plt.xlabel(\"Gender\", size=16)\n",
    "plt.ylabel(\"Number of Users\", size=16)\n",
    "\n",
    "## Disable Y-axis\n",
    "ax = plt.gca() ## Get the Axes\n",
    "ax.get_yaxis().set_visible(False) ## Hide Y-Axis\n",
    "\n",
    "## Change labels (0,1 -> Man, Woman)\n",
    "gph3.set_xticklabels(('Male', 'Female'))\n",
    "\n",
    "## Add total per bar\n",
    "## Source: https://www.geeksforgeeks.org/how-to-annotate-bars-in-barplot-with-matplotlib-in-python/\n",
    "for bar in gph3.patches:\n",
    "    gph3.annotate(format(bar.get_height(), '.0f'), ## total per bar\n",
    "                  (bar.get_x() + bar.get_width() / 2, ## position\n",
    "                   bar.get_height()), ## position\n",
    "                  ha='center', va='center', ## position\n",
    "                  size=10, ## font size\n",
    "                  xytext=(0, 5), ## position of number above bar\n",
    "                  textcoords='offset points')\n",
    "\n",
    "\n",
    "plt.show()"
   ]
  },
  {
   "cell_type": "markdown",
   "metadata": {
    "id": "KfvZJp4RhR7g"
   },
   "source": [
    "#### Number of User Per Weekday"
   ]
  },
  {
   "cell_type": "code",
   "execution_count": null,
   "metadata": {
    "id": "DoXk2kNehVew"
   },
   "outputs": [],
   "source": [
    "## Get the weekdays\n",
    "train['weekday_listened'] = train['time_listened'].dt.weekday\n",
    "train['weekday_listened'] = train['weekday_listened'].astype('category')"
   ]
  },
  {
   "cell_type": "code",
   "execution_count": null,
   "metadata": {
    "colab": {
     "base_uri": "https://localhost:8080/",
     "height": 339
    },
    "executionInfo": {
     "elapsed": 3366,
     "status": "ok",
     "timestamp": 1645625992547,
     "user": {
      "displayName": "Alex Zimm",
      "photoUrl": "https://lh3.googleusercontent.com/a/default-user=s64",
      "userId": "13653603778004721100"
     },
     "user_tz": -60
    },
    "id": "vw3O1FZr1Cgc",
    "outputId": "4c6a1664-02cd-4981-8c80-f9b074b0700f"
   },
   "outputs": [
    {
     "data": {
      "image/png": "[encoded data removed]",
      "text/plain": [
       "<Figure size 720x360 with 1 Axes>"
      ]
     },
     "metadata": {
      "needs_background": "light"
     },
     "output_type": "display_data"
    }
   ],
   "source": [
    "## Select and aggregate data\n",
    "wkd = train[['weekday_listened', 'user_id']].groupby('weekday_listened').nunique().reset_index()\n",
    "\n",
    "## Plot results\n",
    "plt.figure(figsize=(10,5))\n",
    "gph4 = sns.barplot(x = 'weekday_listened',\n",
    "                   y = 'user_id',\n",
    "                   data = wkd,\n",
    "                   color = '#eb97a3')\n",
    "\n",
    "## Add labels\n",
    "plt.xlabel(\"Weekday\", size=16)\n",
    "plt.ylabel(\"Number of Users\", size=16)\n",
    "\n",
    "## Disable Y-axis\n",
    "ax = plt.gca() ## Get the Axes\n",
    "ax.get_yaxis().set_visible(False) ## Hide Y-Axis\n",
    "\n",
    "## Change labels (0,1,2,3,4 -> Monday, Tuesday, ...)\n",
    "gph4.set_xticklabels(('Monday', 'Tuesday', 'Wednesday', 'Thursday', 'Friday', 'Saturday', 'Sunday'))\n",
    "\n",
    "## Add total per bar\n",
    "## Source: https://www.geeksforgeeks.org/how-to-annotate-bars-in-barplot-with-matplotlib-in-python/\n",
    "for bar in gph4.patches:\n",
    "    gph4.annotate(format(bar.get_height(), '.0f'), ## total per bar\n",
    "                  (bar.get_x() + bar.get_width() / 2, ## position\n",
    "                   bar.get_height()), ## position\n",
    "                  ha='center', va='center', ## position\n",
    "                  size=10, ## font size\n",
    "                  xytext=(0, 5), ## position of number above bar\n",
    "                  textcoords='offset points')\n",
    "\n",
    "\n",
    "plt.show()"
   ]
  },
  {
   "cell_type": "markdown",
   "metadata": {
    "id": "ZS-SXs60cxyY"
   },
   "source": [
    "### Listening Time"
   ]
  },
  {
   "cell_type": "code",
   "execution_count": null,
   "metadata": {
    "colab": {
     "base_uri": "https://localhost:8080/",
     "height": 339
    },
    "executionInfo": {
     "elapsed": 1684,
     "status": "ok",
     "timestamp": 1645625995552,
     "user": {
      "displayName": "Alex Zimm",
      "photoUrl": "https://lh3.googleusercontent.com/a/default-user=s64",
      "userId": "13653603778004721100"
     },
     "user_tz": -60
    },
    "id": "WAivDxtiB4oU",
    "outputId": "0252625c-f9d3-49fc-c756-5f1155f3124a"
   },
   "outputs": [
    {
     "data": {
      "image/png": "[encoded data removed]",
      "text/plain": [
       "<Figure size 720x360 with 1 Axes>"
      ]
     },
     "metadata": {
      "needs_background": "light"
     },
     "output_type": "display_data"
    }
   ],
   "source": [
    "train['hour_listened'] = train['time_listened'].dt.hour\n",
    "train['hour_listened'] = train['hour_listened'].astype('category')\n",
    "\n",
    "## Select and aggregate data\n",
    "hr = train[['hour_listened', 'user_id']].groupby('hour_listened').count().reset_index()\n",
    "\n",
    "## Plot results\n",
    "plt.figure(figsize=(10,5))\n",
    "gph5 = sns.barplot(x = 'hour_listened',\n",
    "                   y = 'user_id',\n",
    "                   data = hr,\n",
    "                   color = '#eb97a3')\n",
    "\n",
    "## Add labels\n",
    "plt.xlabel(\"Hour\", size=16)\n",
    "plt.ylabel(\"Number of Users\", size=16)\n",
    "\n",
    "\n",
    "plt.show()"
   ]
  },
  {
   "cell_type": "markdown",
   "metadata": {
    "id": "In2r4Uw-vp8d"
   },
   "source": [
    "### Music Duration"
   ]
  },
  {
   "cell_type": "code",
   "execution_count": null,
   "metadata": {
    "colab": {
     "base_uri": "https://localhost:8080/"
    },
    "executionInfo": {
     "elapsed": 373,
     "status": "ok",
     "timestamp": 1645625999237,
     "user": {
      "displayName": "Alex Zimm",
      "photoUrl": "https://lh3.googleusercontent.com/a/default-user=s64",
      "userId": "13653603778004721100"
     },
     "user_tz": -60
    },
    "id": "_-PZGcm5vr5c",
    "outputId": "9f2cfc27-df5e-4b37-ae3f-f29df069a553"
   },
   "outputs": [
    {
     "name": "stdout",
     "output_type": "stream",
     "text": [
      "min: 0\n",
      "max: 65535\n",
      "mean: 231.2\n",
      "quartile: 0.25    196.0\n",
      "0.50    222.0\n",
      "0.75    254.0\n",
      "Name: media_duration, dtype: float64\n"
     ]
    }
   ],
   "source": [
    "## Minimum duration\n",
    "print('min:', train['media_duration'].min()) ## not possible\n",
    "\n",
    "## Maximum duration\n",
    "print('max:', train['media_duration'].max()) ## way too irreal\n",
    "\n",
    "## Mean duration\n",
    "print('mean:', round(train['media_duration'].mean(), 1))\n",
    "\n",
    "## Maximum duration\n",
    "print('quartile:', train['media_duration'].quantile(q = (0.25, 0.5, 0.75)))"
   ]
  },
  {
   "cell_type": "markdown",
   "metadata": {
    "id": "6ukJAitn4I5c"
   },
   "source": [
    "### Users in testset"
   ]
  },
  {
   "cell_type": "markdown",
   "metadata": {
    "id": "6wfB3Mql6F31"
   },
   "source": [
    "Each of the users in the test dataset only appears once."
   ]
  },
  {
   "cell_type": "code",
   "execution_count": null,
   "metadata": {
    "colab": {
     "base_uri": "https://localhost:8080/"
    },
    "executionInfo": {
     "elapsed": 330,
     "status": "ok",
     "timestamp": 1645626008276,
     "user": {
      "displayName": "Alex Zimm",
      "photoUrl": "https://lh3.googleusercontent.com/a/default-user=s64",
      "userId": "13653603778004721100"
     },
     "user_tz": -60
    },
    "id": "4oz86-Gn59TK",
    "outputId": "0f54e025-7779-4783-a595-152288c2bb93"
   },
   "outputs": [
    {
     "data": {
      "text/plain": [
       "True"
      ]
     },
     "execution_count": 32,
     "metadata": {},
     "output_type": "execute_result"
    }
   ],
   "source": [
    "test['user_id'].nunique() == len(test['user_id'])"
   ]
  },
  {
   "cell_type": "code",
   "execution_count": null,
   "metadata": {
    "colab": {
     "base_uri": "https://localhost:8080/"
    },
    "executionInfo": {
     "elapsed": 1135,
     "status": "ok",
     "timestamp": 1645626010827,
     "user": {
      "displayName": "Alex Zimm",
      "photoUrl": "https://lh3.googleusercontent.com/a/default-user=s64",
      "userId": "13653603778004721100"
     },
     "user_tz": -60
    },
    "id": "RurbZW2E6KJF",
    "outputId": "d331c0b0-73b5-43d5-9d61-4588de30d6ee"
   },
   "outputs": [
    {
     "name": "stdout",
     "output_type": "stream",
     "text": [
      "There are 0 users in the test dataset that no training data is available for.\n"
     ]
    }
   ],
   "source": [
    "users_list_test = test['user_id'].tolist()\n",
    "users_list_train = train['user_id'].tolist()\n",
    "unique_users_list_train = set(users_list_train)\n",
    "\n",
    "new_users = []\n",
    "for user in users_list_test:\n",
    "  if not user in unique_users_list_train:\n",
    "    new_users.append(user)\n",
    "print(f'There are {len(new_users)} users in the test dataset that no training data is available for.')"
   ]
  },
  {
   "cell_type": "markdown",
   "metadata": {
    "id": "fV9sM2zMF0Gd"
   },
   "source": [
    "We have training data for each of the test users we are supposed to predict on, which is a great starting point as this will likely boost our prediction accuracy."
   ]
  },
  {
   "cell_type": "code",
   "execution_count": null,
   "metadata": {
    "id": "6DGwnsf38oMG"
   },
   "outputs": [],
   "source": [
    "# Do not run this cell again (it takes long time)\n",
    "users_list_train_reduced = [user for user in users_list_train if user in users_list_test]\n",
    "\n",
    "freq_testusers_in_train = Counter(users_list_train_reduced)\n",
    "freq_test_in_train= {}\n",
    "for key, value in freq_testusers_in_train.items():\n",
    "  freq_test_in_train[key] = value\n",
    "df = pd.DataFrame(freq_test_in_train, index=[0]).T.reset_index()\n",
    "df.columns = ['user_id', 'freq']\n",
    "df.to_csv(f'{path}/stored_freqs_testuser_in_train.csv', index = False)"
   ]
  },
  {
   "cell_type": "code",
   "execution_count": null,
   "metadata": {
    "colab": {
     "base_uri": "https://localhost:8080/"
    },
    "executionInfo": {
     "elapsed": 383,
     "status": "ok",
     "timestamp": 1645626028730,
     "user": {
      "displayName": "Alex Zimm",
      "photoUrl": "https://lh3.googleusercontent.com/a/default-user=s64",
      "userId": "13653603778004721100"
     },
     "user_tz": -60
    },
    "id": "kJQiodlzPXnC",
    "outputId": "e1985bdd-9773-45bf-d7bf-0712f57ac84e"
   },
   "outputs": [
    {
     "data": {
      "text/plain": [
       "count    19918.000000\n",
       "mean       379.497640\n",
       "std        508.267514\n",
       "min          1.000000\n",
       "25%         66.000000\n",
       "50%        197.000000\n",
       "75%        495.000000\n",
       "max       6317.000000\n",
       "Name: freq, dtype: float64"
      ]
     },
     "execution_count": 36,
     "metadata": {},
     "output_type": "execute_result"
    }
   ],
   "source": [
    "freqs_testuser_in_train = pd.read_csv(f'{path}/data/stored_freqs_testuser_in_train.csv')\n",
    "freqs_testuser_in_train.freq.describe()"
   ]
  },
  {
   "cell_type": "code",
   "execution_count": null,
   "metadata": {
    "colab": {
     "base_uri": "https://localhost:8080/",
     "height": 206
    },
    "executionInfo": {
     "elapsed": 423,
     "status": "ok",
     "timestamp": 1645626272452,
     "user": {
      "displayName": "Alex Zimm",
      "photoUrl": "https://lh3.googleusercontent.com/a/default-user=s64",
      "userId": "13653603778004721100"
     },
     "user_tz": -60
    },
    "id": "Apa6WP9hF8YR",
    "outputId": "0c703db2-8c74-4f32-9bca-270e49686f19"
   },
   "outputs": [
    {
     "data": {
      "text/html": [
       "\n",
       "  <div id=\"df-49186fc1-9e54-4fa0-9f9b-2d8afaa9f72a\">\n",
       "    <div class=\"colab-df-container\">\n",
       "      <div>\n",
       "<style scoped>\n",
       "    .dataframe tbody tr th:only-of-type {\n",
       "        vertical-align: middle;\n",
       "    }\n",
       "\n",
       "    .dataframe tbody tr th {\n",
       "        vertical-align: top;\n",
       "    }\n",
       "\n",
       "    .dataframe thead th {\n",
       "        text-align: right;\n",
       "    }\n",
       "</style>\n",
       "<table border=\"1\" class=\"dataframe\">\n",
       "  <thead>\n",
       "    <tr style=\"text-align: right;\">\n",
       "      <th></th>\n",
       "      <th>Nb Songs</th>\n",
       "      <th>Nb Users</th>\n",
       "    </tr>\n",
       "  </thead>\n",
       "  <tbody>\n",
       "    <tr>\n",
       "      <th>0</th>\n",
       "      <td>1</td>\n",
       "      <td>252</td>\n",
       "    </tr>\n",
       "    <tr>\n",
       "      <th>1</th>\n",
       "      <td>2</td>\n",
       "      <td>127</td>\n",
       "    </tr>\n",
       "    <tr>\n",
       "      <th>2</th>\n",
       "      <td>3</td>\n",
       "      <td>113</td>\n",
       "    </tr>\n",
       "    <tr>\n",
       "      <th>28</th>\n",
       "      <td>4</td>\n",
       "      <td>75</td>\n",
       "    </tr>\n",
       "    <tr>\n",
       "      <th>8</th>\n",
       "      <td>5</td>\n",
       "      <td>95</td>\n",
       "    </tr>\n",
       "  </tbody>\n",
       "</table>\n",
       "</div>\n",
       "      <button class=\"colab-df-convert\" onclick=\"convertToInteractive('df-49186fc1-9e54-4fa0-9f9b-2d8afaa9f72a')\"\n",
       "              title=\"Convert this dataframe to an interactive table.\"\n",
       "              style=\"display:none;\">\n",
       "        \n",
       "  <svg xmlns=\"http://www.w3.org/2000/svg\" height=\"24px\"viewBox=\"0 0 24 24\"\n",
       "       width=\"24px\">\n",
       "    <path d=\"M0 0h24v24H0V0z\" fill=\"none\"/>\n",
       "    <path d=\"M18.56 5.44l.94 2.06.94-2.06 2.06-.94-2.06-.94-.94-2.06-.94 2.06-2.06.94zm-11 1L8.5 8.5l.94-2.06 2.06-.94-2.06-.94L8.5 2.5l-.94 2.06-2.06.94zm10 10l.94 2.06.94-2.06 2.06-.94-2.06-.94-.94-2.06-.94 2.06-2.06.94z\"/><path d=\"M17.41 7.96l-1.37-1.37c-.4-.4-.92-.59-1.43-.59-.52 0-1.04.2-1.43.59L10.3 9.45l-7.72 7.72c-.78.78-.78 2.05 0 2.83L4 21.41c.39.39.9.59 1.41.59.51 0 1.02-.2 1.41-.59l7.78-7.78 2.81-2.81c.8-.78.8-2.07 0-2.86zM5.41 20L4 18.59l7.72-7.72 1.47 1.35L5.41 20z\"/>\n",
       "  </svg>\n",
       "      </button>\n",
       "      \n",
       "  <style>\n",
       "    .colab-df-container {\n",
       "      display:flex;\n",
       "      flex-wrap:wrap;\n",
       "      gap: 12px;\n",
       "    }\n",
       "\n",
       "    .colab-df-convert {\n",
       "      background-color: #E8F0FE;\n",
       "      border: none;\n",
       "      border-radius: 50%;\n",
       "      cursor: pointer;\n",
       "      display: none;\n",
       "      fill: #1967D2;\n",
       "      height: 32px;\n",
       "      padding: 0 0 0 0;\n",
       "      width: 32px;\n",
       "    }\n",
       "\n",
       "    .colab-df-convert:hover {\n",
       "      background-color: #E2EBFA;\n",
       "      box-shadow: 0px 1px 2px rgba(60, 64, 67, 0.3), 0px 1px 3px 1px rgba(60, 64, 67, 0.15);\n",
       "      fill: #174EA6;\n",
       "    }\n",
       "\n",
       "    [theme=dark] .colab-df-convert {\n",
       "      background-color: #3B4455;\n",
       "      fill: #D2E3FC;\n",
       "    }\n",
       "\n",
       "    [theme=dark] .colab-df-convert:hover {\n",
       "      background-color: #434B5C;\n",
       "      box-shadow: 0px 1px 3px 1px rgba(0, 0, 0, 0.15);\n",
       "      filter: drop-shadow(0px 1px 2px rgba(0, 0, 0, 0.3));\n",
       "      fill: #FFFFFF;\n",
       "    }\n",
       "  </style>\n",
       "\n",
       "      <script>\n",
       "        const buttonEl =\n",
       "          document.querySelector('#df-49186fc1-9e54-4fa0-9f9b-2d8afaa9f72a button.colab-df-convert');\n",
       "        buttonEl.style.display =\n",
       "          google.colab.kernel.accessAllowed ? 'block' : 'none';\n",
       "\n",
       "        async function convertToInteractive(key) {\n",
       "          const element = document.querySelector('#df-49186fc1-9e54-4fa0-9f9b-2d8afaa9f72a');\n",
       "          const dataTable =\n",
       "            await google.colab.kernel.invokeFunction('convertToInteractive',\n",
       "                                                     [key], {});\n",
       "          if (!dataTable) return;\n",
       "\n",
       "          const docLinkHtml = 'Like what you see? Visit the ' +\n",
       "            '<a target=\"_blank\" href=https://colab.research.google.com/notebooks/data_table.ipynb>data table notebook</a>'\n",
       "            + ' to learn more about interactive tables.';\n",
       "          element.innerHTML = '';\n",
       "          dataTable['output_type'] = 'display_data';\n",
       "          await google.colab.output.renderOutput(dataTable, element);\n",
       "          const docLink = document.createElement('div');\n",
       "          docLink.innerHTML = docLinkHtml;\n",
       "          element.appendChild(docLink);\n",
       "        }\n",
       "      </script>\n",
       "    </div>\n",
       "  </div>\n",
       "  "
      ],
      "text/plain": [
       "    Nb Songs  Nb Users\n",
       "0          1       252\n",
       "1          2       127\n",
       "2          3       113\n",
       "28         4        75\n",
       "8          5        95"
      ]
     },
     "execution_count": 44,
     "metadata": {},
     "output_type": "execute_result"
    }
   ],
   "source": [
    "dtestusr = freqs_testuser_in_train.value_counts('freq').reset_index().sort_values('freq').head()\n",
    "# rename first column \n",
    "dtestusr.columns.values[0] = \"Nb Songs\" \n",
    "\n",
    "# rename second column \n",
    "dtestusr.columns.values[1] = \"Nb Users\" \n",
    "dtestusr"
   ]
  },
  {
   "cell_type": "markdown",
   "metadata": {
    "id": "gh0mysEGGlhl"
   },
   "source": [
    "Of the 19'918 users in the test set, 252 have only ever listened to one song, 127 to 2, 113 to 3, etc. While prediction on them is likely poor, the average test user has listened to 379 songs. Thus, we have quite a lot of data on them and predictions should work well."
   ]
  },
  {
   "cell_type": "markdown",
   "metadata": {
    "id": "LC4QB8dZ4iZf"
   },
   "source": [
    "### Dropping One-Time Users"
   ]
  },
  {
   "cell_type": "code",
   "execution_count": null,
   "metadata": {
    "id": "cXLr39o-5jLA"
   },
   "outputs": [],
   "source": [
    "one_time_users = train[['user_id', 'media_id']].groupby('user_id').count().reset_index()\n",
    "one_time_users = one_time_users[one_time_users['media_id'] == 1]['user_id'].tolist()\n",
    "train_reduced = train[~train['user_id'].isin(one_time_users)]"
   ]
  },
  {
   "cell_type": "code",
   "execution_count": null,
   "metadata": {
    "id": "YnKP2G3pF3Do"
   },
   "outputs": [],
   "source": [
    "## Data preparation was done separately due to a lack of RAM in the notebook\n",
    "## This cell is just here for transparency reasons (the code is the same)\n",
    "\n",
    "## Do Not Run This Cell\n",
    "\n",
    "## Load the Data\n",
    "train = pd.read_csv(f'{path}/data/train.csv') ## full dataset\n",
    "\n",
    "## Count the number of listenings per song per user\n",
    "df_u = train.groupby(['user_id', 'media_id']).sum()['is_listened'].reset_index()\n",
    "df_u.rename(columns = {'is_listened': 'nb_listened'}, inplace = True)\n",
    "print('user done')\n",
    "\n",
    "## Get the total opportunities of listening of song\n",
    "df_o = train.groupby(['user_id', 'media_id']).count()['is_listened'].reset_index()\n",
    "df_o.rename(columns = {'is_listened': 'nb_opportunities'}, inplace = True)\n",
    "print('opportunity done')\n",
    "\n",
    "## Get the proportion of listening\n",
    "df_p = train.groupby(['user_id', 'media_id']).mean()['is_listened'].reset_index()\n",
    "df_p.rename(columns = {'is_listened': 'nb_prop'}, inplace = True)\n",
    "print('proportion done')\n",
    "\n",
    "df_final = df_u.merge(df_o, on = ['user_id', \n",
    "                                  'media_id']).merge(df_p, on = ['user_id', 'media_id'])\n",
    "print('merging done')\n",
    "\n",
    "\n",
    "## Merge to get information about music\n",
    "df_final = df_final.merge(train[['media_id', \n",
    "                                 'release_date', \n",
    "                                 'media_duration', \n",
    "                                 'genre_id', \n",
    "                                 'album_id']].drop_duplicates([\"media_id\"]), on = 'media_id')\n",
    "\n",
    "## Add new column (year)\n",
    "df_final['release_year'] = df_final['release_date'].astype(str).str.slice(0, 4).astype(int)\n",
    "print('merging & media done')\n",
    "\n",
    "## Merge to get information about user\n",
    "df_final = df_final.merge(train[['user_id', \n",
    "                                 'user_gender', \n",
    "                                 'user_age']].drop_duplicates([\"user_id\"]), on = 'user_id')\n",
    "print('merging & user done')\n",
    "df_final.to_csv('data_prep_OneTimeUsers_Result.csv', sep = ',')\n",
    "\n",
    "print('final dataset created')"
   ]
  },
  {
   "cell_type": "code",
   "execution_count": null,
   "metadata": {
    "colab": {
     "base_uri": "https://localhost:8080/",
     "height": 487
    },
    "executionInfo": {
     "elapsed": 1336,
     "status": "ok",
     "timestamp": 1644954818136,
     "user": {
      "displayName": "Ferris Storke",
      "photoUrl": "https://lh3.googleusercontent.com/a/default-user=s64",
      "userId": "13517208966880774206"
     },
     "user_tz": -60
    },
    "id": "4Hlf-5Y0fIJ_",
    "outputId": "a3b82004-f251-4cc3-928f-38bf088ab5f2"
   },
   "outputs": [
    {
     "data": {
      "text/html": [
       "\n",
       "  <div id=\"df-fa7e6f96-0e18-44a9-8039-818726a6b0d3\">\n",
       "    <div class=\"colab-df-container\">\n",
       "      <div>\n",
       "<style scoped>\n",
       "    .dataframe tbody tr th:only-of-type {\n",
       "        vertical-align: middle;\n",
       "    }\n",
       "\n",
       "    .dataframe tbody tr th {\n",
       "        vertical-align: top;\n",
       "    }\n",
       "\n",
       "    .dataframe thead th {\n",
       "        text-align: right;\n",
       "    }\n",
       "</style>\n",
       "<table border=\"1\" class=\"dataframe\">\n",
       "  <thead>\n",
       "    <tr style=\"text-align: right;\">\n",
       "      <th></th>\n",
       "      <th>user_id</th>\n",
       "      <th>media_id</th>\n",
       "      <th>nb_listened</th>\n",
       "      <th>nb_opportunities</th>\n",
       "      <th>nb_prop</th>\n",
       "      <th>release_date</th>\n",
       "      <th>media_duration</th>\n",
       "      <th>genre_id</th>\n",
       "      <th>album_id</th>\n",
       "      <th>release_year</th>\n",
       "      <th>user_gender</th>\n",
       "      <th>user_age</th>\n",
       "    </tr>\n",
       "  </thead>\n",
       "  <tbody>\n",
       "    <tr>\n",
       "      <th>0</th>\n",
       "      <td>0</td>\n",
       "      <td>211678</td>\n",
       "      <td>7</td>\n",
       "      <td>7</td>\n",
       "      <td>1.0</td>\n",
       "      <td>20070619</td>\n",
       "      <td>360</td>\n",
       "      <td>2</td>\n",
       "      <td>40902</td>\n",
       "      <td>2007</td>\n",
       "      <td>0</td>\n",
       "      <td>26</td>\n",
       "    </tr>\n",
       "    <tr>\n",
       "      <th>1</th>\n",
       "      <td>0</td>\n",
       "      <td>211796</td>\n",
       "      <td>1</td>\n",
       "      <td>1</td>\n",
       "      <td>1.0</td>\n",
       "      <td>20070619</td>\n",
       "      <td>254</td>\n",
       "      <td>2</td>\n",
       "      <td>40912</td>\n",
       "      <td>2007</td>\n",
       "      <td>0</td>\n",
       "      <td>26</td>\n",
       "    </tr>\n",
       "    <tr>\n",
       "      <th>2</th>\n",
       "      <td>0</td>\n",
       "      <td>238286</td>\n",
       "      <td>1</td>\n",
       "      <td>1</td>\n",
       "      <td>1.0</td>\n",
       "      <td>20030527</td>\n",
       "      <td>196</td>\n",
       "      <td>18</td>\n",
       "      <td>42872</td>\n",
       "      <td>2003</td>\n",
       "      <td>0</td>\n",
       "      <td>26</td>\n",
       "    </tr>\n",
       "    <tr>\n",
       "      <th>3</th>\n",
       "      <td>0</td>\n",
       "      <td>286191</td>\n",
       "      <td>1</td>\n",
       "      <td>1</td>\n",
       "      <td>1.0</td>\n",
       "      <td>20061212</td>\n",
       "      <td>230</td>\n",
       "      <td>9</td>\n",
       "      <td>46627</td>\n",
       "      <td>2006</td>\n",
       "      <td>0</td>\n",
       "      <td>26</td>\n",
       "    </tr>\n",
       "    <tr>\n",
       "      <th>4</th>\n",
       "      <td>0</td>\n",
       "      <td>304849</td>\n",
       "      <td>1</td>\n",
       "      <td>1</td>\n",
       "      <td>1.0</td>\n",
       "      <td>20071004</td>\n",
       "      <td>322</td>\n",
       "      <td>2</td>\n",
       "      <td>48047</td>\n",
       "      <td>2007</td>\n",
       "      <td>0</td>\n",
       "      <td>26</td>\n",
       "    </tr>\n",
       "    <tr>\n",
       "      <th>...</th>\n",
       "      <td>...</td>\n",
       "      <td>...</td>\n",
       "      <td>...</td>\n",
       "      <td>...</td>\n",
       "      <td>...</td>\n",
       "      <td>...</td>\n",
       "      <td>...</td>\n",
       "      <td>...</td>\n",
       "      <td>...</td>\n",
       "      <td>...</td>\n",
       "      <td>...</td>\n",
       "      <td>...</td>\n",
       "    </tr>\n",
       "    <tr>\n",
       "      <th>1048570</th>\n",
       "      <td>4661</td>\n",
       "      <td>682789</td>\n",
       "      <td>1</td>\n",
       "      <td>1</td>\n",
       "      <td>1.0</td>\n",
       "      <td>20050920</td>\n",
       "      <td>188</td>\n",
       "      <td>50</td>\n",
       "      <td>82323</td>\n",
       "      <td>2005</td>\n",
       "      <td>1</td>\n",
       "      <td>26</td>\n",
       "    </tr>\n",
       "    <tr>\n",
       "      <th>1048571</th>\n",
       "      <td>4661</td>\n",
       "      <td>745532</td>\n",
       "      <td>1</td>\n",
       "      <td>1</td>\n",
       "      <td>1.0</td>\n",
       "      <td>20010423</td>\n",
       "      <td>271</td>\n",
       "      <td>7</td>\n",
       "      <td>88383</td>\n",
       "      <td>2001</td>\n",
       "      <td>1</td>\n",
       "      <td>26</td>\n",
       "    </tr>\n",
       "    <tr>\n",
       "      <th>1048572</th>\n",
       "      <td>4661</td>\n",
       "      <td>858207</td>\n",
       "      <td>0</td>\n",
       "      <td>1</td>\n",
       "      <td>0.0</td>\n",
       "      <td>19940927</td>\n",
       "      <td>258</td>\n",
       "      <td>7</td>\n",
       "      <td>98225</td>\n",
       "      <td>1994</td>\n",
       "      <td>1</td>\n",
       "      <td>26</td>\n",
       "    </tr>\n",
       "    <tr>\n",
       "      <th>1048573</th>\n",
       "      <td>4661</td>\n",
       "      <td>909611</td>\n",
       "      <td>0</td>\n",
       "      <td>1</td>\n",
       "      <td>0.0</td>\n",
       "      <td>20060605</td>\n",
       "      <td>174</td>\n",
       "      <td>7</td>\n",
       "      <td>102586</td>\n",
       "      <td>2006</td>\n",
       "      <td>1</td>\n",
       "      <td>26</td>\n",
       "    </tr>\n",
       "    <tr>\n",
       "      <th>1048574</th>\n",
       "      <td>4661</td>\n",
       "      <td>910212</td>\n",
       "      <td>1</td>\n",
       "      <td>1</td>\n",
       "      <td>1.0</td>\n",
       "      <td>20071008</td>\n",
       "      <td>177</td>\n",
       "      <td>1106</td>\n",
       "      <td>102626</td>\n",
       "      <td>2007</td>\n",
       "      <td>1</td>\n",
       "      <td>26</td>\n",
       "    </tr>\n",
       "  </tbody>\n",
       "</table>\n",
       "<p>1048575 rows × 12 columns</p>\n",
       "</div>\n",
       "      <button class=\"colab-df-convert\" onclick=\"convertToInteractive('df-fa7e6f96-0e18-44a9-8039-818726a6b0d3')\"\n",
       "              title=\"Convert this dataframe to an interactive table.\"\n",
       "              style=\"display:none;\">\n",
       "        \n",
       "  <svg xmlns=\"http://www.w3.org/2000/svg\" height=\"24px\"viewBox=\"0 0 24 24\"\n",
       "       width=\"24px\">\n",
       "    <path d=\"M0 0h24v24H0V0z\" fill=\"none\"/>\n",
       "    <path d=\"M18.56 5.44l.94 2.06.94-2.06 2.06-.94-2.06-.94-.94-2.06-.94 2.06-2.06.94zm-11 1L8.5 8.5l.94-2.06 2.06-.94-2.06-.94L8.5 2.5l-.94 2.06-2.06.94zm10 10l.94 2.06.94-2.06 2.06-.94-2.06-.94-.94-2.06-.94 2.06-2.06.94z\"/><path d=\"M17.41 7.96l-1.37-1.37c-.4-.4-.92-.59-1.43-.59-.52 0-1.04.2-1.43.59L10.3 9.45l-7.72 7.72c-.78.78-.78 2.05 0 2.83L4 21.41c.39.39.9.59 1.41.59.51 0 1.02-.2 1.41-.59l7.78-7.78 2.81-2.81c.8-.78.8-2.07 0-2.86zM5.41 20L4 18.59l7.72-7.72 1.47 1.35L5.41 20z\"/>\n",
       "  </svg>\n",
       "      </button>\n",
       "      \n",
       "  <style>\n",
       "    .colab-df-container {\n",
       "      display:flex;\n",
       "      flex-wrap:wrap;\n",
       "      gap: 12px;\n",
       "    }\n",
       "\n",
       "    .colab-df-convert {\n",
       "      background-color: #E8F0FE;\n",
       "      border: none;\n",
       "      border-radius: 50%;\n",
       "      cursor: pointer;\n",
       "      display: none;\n",
       "      fill: #1967D2;\n",
       "      height: 32px;\n",
       "      padding: 0 0 0 0;\n",
       "      width: 32px;\n",
       "    }\n",
       "\n",
       "    .colab-df-convert:hover {\n",
       "      background-color: #E2EBFA;\n",
       "      box-shadow: 0px 1px 2px rgba(60, 64, 67, 0.3), 0px 1px 3px 1px rgba(60, 64, 67, 0.15);\n",
       "      fill: #174EA6;\n",
       "    }\n",
       "\n",
       "    [theme=dark] .colab-df-convert {\n",
       "      background-color: #3B4455;\n",
       "      fill: #D2E3FC;\n",
       "    }\n",
       "\n",
       "    [theme=dark] .colab-df-convert:hover {\n",
       "      background-color: #434B5C;\n",
       "      box-shadow: 0px 1px 3px 1px rgba(0, 0, 0, 0.15);\n",
       "      filter: drop-shadow(0px 1px 2px rgba(0, 0, 0, 0.3));\n",
       "      fill: #FFFFFF;\n",
       "    }\n",
       "  </style>\n",
       "\n",
       "      <script>\n",
       "        const buttonEl =\n",
       "          document.querySelector('#df-fa7e6f96-0e18-44a9-8039-818726a6b0d3 button.colab-df-convert');\n",
       "        buttonEl.style.display =\n",
       "          google.colab.kernel.accessAllowed ? 'block' : 'none';\n",
       "\n",
       "        async function convertToInteractive(key) {\n",
       "          const element = document.querySelector('#df-fa7e6f96-0e18-44a9-8039-818726a6b0d3');\n",
       "          const dataTable =\n",
       "            await google.colab.kernel.invokeFunction('convertToInteractive',\n",
       "                                                     [key], {});\n",
       "          if (!dataTable) return;\n",
       "\n",
       "          const docLinkHtml = 'Like what you see? Visit the ' +\n",
       "            '<a target=\"_blank\" href=https://colab.research.google.com/notebooks/data_table.ipynb>data table notebook</a>'\n",
       "            + ' to learn more about interactive tables.';\n",
       "          element.innerHTML = '';\n",
       "          dataTable['output_type'] = 'display_data';\n",
       "          await google.colab.output.renderOutput(dataTable, element);\n",
       "          const docLink = document.createElement('div');\n",
       "          docLink.innerHTML = docLinkHtml;\n",
       "          element.appendChild(docLink);\n",
       "        }\n",
       "      </script>\n",
       "    </div>\n",
       "  </div>\n",
       "  "
      ],
      "text/plain": [
       "         user_id  media_id  nb_listened  ...  release_year  user_gender  user_age\n",
       "0              0    211678            7  ...          2007            0        26\n",
       "1              0    211796            1  ...          2007            0        26\n",
       "2              0    238286            1  ...          2003            0        26\n",
       "3              0    286191            1  ...          2006            0        26\n",
       "4              0    304849            1  ...          2007            0        26\n",
       "...          ...       ...          ...  ...           ...          ...       ...\n",
       "1048570     4661    682789            1  ...          2005            1        26\n",
       "1048571     4661    745532            1  ...          2001            1        26\n",
       "1048572     4661    858207            0  ...          1994            1        26\n",
       "1048573     4661    909611            0  ...          2006            1        26\n",
       "1048574     4661    910212            1  ...          2007            1        26\n",
       "\n",
       "[1048575 rows x 12 columns]"
      ]
     },
     "execution_count": 77,
     "metadata": {},
     "output_type": "execute_result"
    }
   ],
   "source": [
    "## From the output above, we re-defined our dataset and dropped \"One-Time Users\"\n",
    "\n",
    "## Loading data\n",
    "df = pd.read_csv(f'{path}/data/data_prep_OneTimeUsers_Result.csv')\n",
    "## Drop first column\n",
    "df.drop(columns=df.columns[0], axis=1, inplace=True)\n",
    "\n",
    "# Drop \"One-Time Users\"\n",
    "df = df[~df['user_id'].isin(heavy_users)]\n",
    "df"
   ]
  },
  {
   "cell_type": "markdown",
   "metadata": {
    "id": "v7m9i9ks-U7G"
   },
   "source": [
    "## Our Prediction Models to Win the Competition"
   ]
  },
  {
   "cell_type": "markdown",
   "metadata": {
    "id": "onTne4gw9ET_"
   },
   "source": [
    "### Comparing SVD, KNN and Baseline on full dataset treating 'is_listened' as explicit rating"
   ]
  },
  {
   "cell_type": "markdown",
   "metadata": {
    "id": "HgaS_xlE_nkA"
   },
   "source": [
    "To get a first baseline accuracy, we compared the accuracy and performance of three built-in algorithms of the surprise package on the full dataset, treating 'is_listened' as an explicit rating:\n",
    "\n",
    "\n",
    "*   Probabilistic Matrix Factorization\n",
    "*   A basic collaborative filtering algorithm taking into account a baseline rating.\n",
    "*   Algorithm predicting the baseline estimate for given user and item.\n",
    "\n",
    "\n",
    "\n"
   ]
  },
  {
   "cell_type": "code",
   "execution_count": null,
   "metadata": {
    "colab": {
     "base_uri": "https://localhost:8080/"
    },
    "id": "X3Y0yyauSLRU",
    "outputId": "3a6736b1-8db9-430f-865f-84f4b61d5a6d"
   },
   "outputs": [
    {
     "name": "stdout",
     "output_type": "stream",
     "text": [
      "Estimating biases using als...\n",
      "Computing the msd similarity matrix...\n",
      "Done computing similarity matrix.\n",
      "Estimating biases using als...\n",
      "Computing the msd similarity matrix...\n",
      "Done computing similarity matrix.\n",
      "Estimating biases using als...\n",
      "Computing the msd similarity matrix...\n",
      "Done computing similarity matrix.\n",
      "Estimating biases using als...\n"
     ]
    }
   ],
   "source": [
    "# Compare performance of three different algorithms\n",
    "reader = Reader(rating_scale = (0, 1))\n",
    "\n",
    "data_full_is_listened = Dataset.load_from_df(train[['user_id', 'media_id', 'is_listened']], reader)\n",
    "\n",
    "benchmark = []\n",
    "# Iterate over all algorithms\n",
    "for algorithm in [SVD(), KNNBaseline(), BaselineOnly()]:\n",
    "    # Perform cross validation\n",
    "    results = cross_validate(algorithm, data_full_is_listened, measures=['RMSE'], cv = 3, verbose = False)\n",
    "    \n",
    "    # Get results & append algorithm name\n",
    "    tmp = pd.DataFrame.from_dict(results).mean(axis = 0)\n",
    "    tmp = tmp.append(pd.Series([str(algorithm).split(' ')[0].split('.')[-1]], index = ['Algorithm']))\n",
    "    benchmark.append(tmp)\n",
    "    \n",
    "#pd.DataFrame(benchmark).set_index('Algorithm').sort_values('test_rmse')  \n",
    "df_benchmark = pd.DataFrame(benchmark).set_index('Algorithm').sort_values('test_rmse')\n",
    "df_benchmark.to_csv(f'{path}/benchmark_smaller.csv')  "
   ]
  },
  {
   "cell_type": "code",
   "execution_count": null,
   "metadata": {
    "colab": {
     "base_uri": "https://localhost:8080/",
     "height": 143
    },
    "executionInfo": {
     "elapsed": 482,
     "status": "ok",
     "timestamp": 1644910661646,
     "user": {
      "displayName": "Ferris Storke",
      "photoUrl": "https://lh3.googleusercontent.com/a/default-user=s64",
      "userId": "13517208966880774206"
     },
     "user_tz": -60
    },
    "id": "f35ZtYerSXGx",
    "outputId": "b6ad4559-eab3-4882-8a44-de60d1a31e6a"
   },
   "outputs": [
    {
     "data": {
      "text/html": [
       "\n",
       "  <div id=\"df-b4fa1014-ad59-4b7c-98ce-e23d3a7b300f\">\n",
       "    <div class=\"colab-df-container\">\n",
       "      <div>\n",
       "<style scoped>\n",
       "    .dataframe tbody tr th:only-of-type {\n",
       "        vertical-align: middle;\n",
       "    }\n",
       "\n",
       "    .dataframe tbody tr th {\n",
       "        vertical-align: top;\n",
       "    }\n",
       "\n",
       "    .dataframe thead th {\n",
       "        text-align: right;\n",
       "    }\n",
       "</style>\n",
       "<table border=\"1\" class=\"dataframe\">\n",
       "  <thead>\n",
       "    <tr style=\"text-align: right;\">\n",
       "      <th></th>\n",
       "      <th>Algorithm</th>\n",
       "      <th>test_rmse</th>\n",
       "      <th>fit_time</th>\n",
       "      <th>test_time</th>\n",
       "    </tr>\n",
       "  </thead>\n",
       "  <tbody>\n",
       "    <tr>\n",
       "      <th>0</th>\n",
       "      <td>SVD</td>\n",
       "      <td>0.403476</td>\n",
       "      <td>334.573660</td>\n",
       "      <td>43.606699</td>\n",
       "    </tr>\n",
       "    <tr>\n",
       "      <th>1</th>\n",
       "      <td>BaselineOnly</td>\n",
       "      <td>0.406610</td>\n",
       "      <td>45.696861</td>\n",
       "      <td>34.071112</td>\n",
       "    </tr>\n",
       "    <tr>\n",
       "      <th>2</th>\n",
       "      <td>KNNBaseline</td>\n",
       "      <td>0.411336</td>\n",
       "      <td>630.961869</td>\n",
       "      <td>3014.402711</td>\n",
       "    </tr>\n",
       "  </tbody>\n",
       "</table>\n",
       "</div>\n",
       "      <button class=\"colab-df-convert\" onclick=\"convertToInteractive('df-b4fa1014-ad59-4b7c-98ce-e23d3a7b300f')\"\n",
       "              title=\"Convert this dataframe to an interactive table.\"\n",
       "              style=\"display:none;\">\n",
       "        \n",
       "  <svg xmlns=\"http://www.w3.org/2000/svg\" height=\"24px\"viewBox=\"0 0 24 24\"\n",
       "       width=\"24px\">\n",
       "    <path d=\"M0 0h24v24H0V0z\" fill=\"none\"/>\n",
       "    <path d=\"M18.56 5.44l.94 2.06.94-2.06 2.06-.94-2.06-.94-.94-2.06-.94 2.06-2.06.94zm-11 1L8.5 8.5l.94-2.06 2.06-.94-2.06-.94L8.5 2.5l-.94 2.06-2.06.94zm10 10l.94 2.06.94-2.06 2.06-.94-2.06-.94-.94-2.06-.94 2.06-2.06.94z\"/><path d=\"M17.41 7.96l-1.37-1.37c-.4-.4-.92-.59-1.43-.59-.52 0-1.04.2-1.43.59L10.3 9.45l-7.72 7.72c-.78.78-.78 2.05 0 2.83L4 21.41c.39.39.9.59 1.41.59.51 0 1.02-.2 1.41-.59l7.78-7.78 2.81-2.81c.8-.78.8-2.07 0-2.86zM5.41 20L4 18.59l7.72-7.72 1.47 1.35L5.41 20z\"/>\n",
       "  </svg>\n",
       "      </button>\n",
       "      \n",
       "  <style>\n",
       "    .colab-df-container {\n",
       "      display:flex;\n",
       "      flex-wrap:wrap;\n",
       "      gap: 12px;\n",
       "    }\n",
       "\n",
       "    .colab-df-convert {\n",
       "      background-color: #E8F0FE;\n",
       "      border: none;\n",
       "      border-radius: 50%;\n",
       "      cursor: pointer;\n",
       "      display: none;\n",
       "      fill: #1967D2;\n",
       "      height: 32px;\n",
       "      padding: 0 0 0 0;\n",
       "      width: 32px;\n",
       "    }\n",
       "\n",
       "    .colab-df-convert:hover {\n",
       "      background-color: #E2EBFA;\n",
       "      box-shadow: 0px 1px 2px rgba(60, 64, 67, 0.3), 0px 1px 3px 1px rgba(60, 64, 67, 0.15);\n",
       "      fill: #174EA6;\n",
       "    }\n",
       "\n",
       "    [theme=dark] .colab-df-convert {\n",
       "      background-color: #3B4455;\n",
       "      fill: #D2E3FC;\n",
       "    }\n",
       "\n",
       "    [theme=dark] .colab-df-convert:hover {\n",
       "      background-color: #434B5C;\n",
       "      box-shadow: 0px 1px 3px 1px rgba(0, 0, 0, 0.15);\n",
       "      filter: drop-shadow(0px 1px 2px rgba(0, 0, 0, 0.3));\n",
       "      fill: #FFFFFF;\n",
       "    }\n",
       "  </style>\n",
       "\n",
       "      <script>\n",
       "        const buttonEl =\n",
       "          document.querySelector('#df-b4fa1014-ad59-4b7c-98ce-e23d3a7b300f button.colab-df-convert');\n",
       "        buttonEl.style.display =\n",
       "          google.colab.kernel.accessAllowed ? 'block' : 'none';\n",
       "\n",
       "        async function convertToInteractive(key) {\n",
       "          const element = document.querySelector('#df-b4fa1014-ad59-4b7c-98ce-e23d3a7b300f');\n",
       "          const dataTable =\n",
       "            await google.colab.kernel.invokeFunction('convertToInteractive',\n",
       "                                                     [key], {});\n",
       "          if (!dataTable) return;\n",
       "\n",
       "          const docLinkHtml = 'Like what you see? Visit the ' +\n",
       "            '<a target=\"_blank\" href=https://colab.research.google.com/notebooks/data_table.ipynb>data table notebook</a>'\n",
       "            + ' to learn more about interactive tables.';\n",
       "          element.innerHTML = '';\n",
       "          dataTable['output_type'] = 'display_data';\n",
       "          await google.colab.output.renderOutput(dataTable, element);\n",
       "          const docLink = document.createElement('div');\n",
       "          docLink.innerHTML = docLinkHtml;\n",
       "          element.appendChild(docLink);\n",
       "        }\n",
       "      </script>\n",
       "    </div>\n",
       "  </div>\n",
       "  "
      ],
      "text/plain": [
       "      Algorithm  test_rmse    fit_time    test_time\n",
       "0           SVD   0.403476  334.573660    43.606699\n",
       "1  BaselineOnly   0.406610   45.696861    34.071112\n",
       "2   KNNBaseline   0.411336  630.961869  3014.402711"
      ]
     },
     "execution_count": 77,
     "metadata": {},
     "output_type": "execute_result"
    }
   ],
   "source": [
    "df_benchmark = pd.read_csv(f'{path}/data/benchmark_smaller.csv')\n",
    "df_benchmark"
   ]
  },
  {
   "cell_type": "markdown",
   "metadata": {
    "id": "KFIW5AShUWXF"
   },
   "source": [
    "As we can see, the baseline algorithm is much faster and has almost the same accuracy as SVD."
   ]
  },
  {
   "cell_type": "markdown",
   "metadata": {
    "id": "5tbeWMh09UdD"
   },
   "source": [
    "### First Model: \"nb_prop\""
   ]
  },
  {
   "cell_type": "markdown",
   "metadata": {
    "id": "VyOZYTZd-ZiC"
   },
   "source": [
    "Since the above algorithms are intended for use with explicit ratings, we created a new rating variable (using the proportion of the time a user did not skip a song) and ran the BaselineOnly model on the dataset excluding one-time users and the full dataset."
   ]
  },
  {
   "cell_type": "code",
   "execution_count": null,
   "metadata": {
    "colab": {
     "base_uri": "https://localhost:8080/"
    },
    "executionInfo": {
     "elapsed": 16178,
     "status": "ok",
     "timestamp": 1644955047401,
     "user": {
      "displayName": "Ferris Storke",
      "photoUrl": "https://lh3.googleusercontent.com/a/default-user=s64",
      "userId": "13517208966880774206"
     },
     "user_tz": -60
    },
    "id": "GP4VHbLU9VYH",
    "outputId": "6ceb8db3-cc34-4089-bbc2-d7a0dc6514e8"
   },
   "outputs": [
    {
     "name": "stdout",
     "output_type": "stream",
     "text": [
      "Estimating biases using als...\n",
      "RMSE: 0.3497\n"
     ]
    },
    {
     "data": {
      "text/plain": [
       "0.349701154441177"
      ]
     },
     "execution_count": 79,
     "metadata": {},
     "output_type": "execute_result"
    }
   ],
   "source": [
    "# Read in CSV file as surprise dataset \n",
    "## Reduced dataset, which excludes one-time users\n",
    "data_reduced_nb_prop = Dataset.load_from_df(df[['user_id', 'media_id', 'nb_prop']], reader)\n",
    "\n",
    "# Split into 80% train and 20% test set\n",
    "trainset, testset = train_test_split(data_reduced_nb_prop, test_size = .2)\n",
    "\n",
    "# We will use the baseline algorithm\n",
    "algo = BaselineOnly()\n",
    "\n",
    "# Train the algorithm on the trainset, and predict 'nb_prop' for the testset\n",
    "algo.fit(trainset)\n",
    "predictions = algo.test(testset)\n",
    "\n",
    "# Compute RMSE of predictions\n",
    "accuracy.rmse(predictions) ## 35%"
   ]
  },
  {
   "cell_type": "code",
   "execution_count": null,
   "metadata": {
    "colab": {
     "base_uri": "https://localhost:8080/"
    },
    "executionInfo": {
     "elapsed": 16923,
     "status": "ok",
     "timestamp": 1644955919273,
     "user": {
      "displayName": "Ferris Storke",
      "photoUrl": "https://lh3.googleusercontent.com/a/default-user=s64",
      "userId": "13517208966880774206"
     },
     "user_tz": -60
    },
    "id": "kJUqlp0kJIY6",
    "outputId": "27d5f6ff-d1a7-4a7e-d642-040f3a4cc296"
   },
   "outputs": [
    {
     "name": "stdout",
     "output_type": "stream",
     "text": [
      "Estimating biases using als...\n",
      "RMSE: 0.3494\n"
     ]
    },
    {
     "data": {
      "text/plain": [
       "0.34943948813097103"
      ]
     },
     "execution_count": 81,
     "metadata": {},
     "output_type": "execute_result"
    }
   ],
   "source": [
    "# Dataset including one-time users\n",
    "opps = pd.read_csv(f'{path}/data/data_prep.csv')\n",
    "opps_min = opps['nb_prop'].min()\n",
    "opps_max = opps['nb_prop'].max()\n",
    "\n",
    "# Read in csv file as surprise dataset\n",
    "reader = Reader(rating_scale = (opps_min, opps_max))\n",
    "data = Dataset.load_from_df(opps[['user_id', 'media_id', 'nb_prop']], reader)\n",
    "\n",
    "# Split into train and test set\n",
    "trainset, testset = train_test_split(data, test_size = .2)\n",
    "\n",
    "# We will use the baseline algorithm\n",
    "algo = BaselineOnly()\n",
    "\n",
    "# Train the algorithm on the trainset, and predict 'nb_prop' for the testset\n",
    "algo.fit(trainset)\n",
    "predictions = algo.test(testset) \n",
    "\n",
    "# Compute RMSE of predictions\n",
    "accuracy.rmse(predictions) ## 34.9%"
   ]
  },
  {
   "cell_type": "markdown",
   "metadata": {
    "id": "0b7AM2uTAYaF"
   },
   "source": [
    "The model trained on the full dataset performed slightly better with an excellent RMSE of around 34.9%."
   ]
  },
  {
   "cell_type": "markdown",
   "metadata": {
    "id": "vz0k7z7y9v0J"
   },
   "source": [
    "### Second Model: \"good_song\"\n"
   ]
  },
  {
   "cell_type": "markdown",
   "metadata": {
    "id": "wvVjb3UH_ISM"
   },
   "source": [
    "Our second model is trained on yet another new rating variable, \"good_song\", for which the proportion of the time a user did not skip the song is binary (using .5 as a threshold). Here, one-time users were excluded."
   ]
  },
  {
   "cell_type": "code",
   "execution_count": null,
   "metadata": {
    "colab": {
     "base_uri": "https://localhost:8080/"
    },
    "executionInfo": {
     "elapsed": 16123,
     "status": "ok",
     "timestamp": 1644955215328,
     "user": {
      "displayName": "Ferris Storke",
      "photoUrl": "https://lh3.googleusercontent.com/a/default-user=s64",
      "userId": "13517208966880774206"
     },
     "user_tz": -60
    },
    "id": "L-6iUFgGyfPB",
    "outputId": "fc9f95fc-db6b-4182-e461-2c23679025fa"
   },
   "outputs": [
    {
     "name": "stdout",
     "output_type": "stream",
     "text": [
      "Estimating biases using als...\n",
      "RMSE: 0.3733\n"
     ]
    },
    {
     "data": {
      "text/plain": [
       "0.3733340526830752"
      ]
     },
     "execution_count": 80,
     "metadata": {},
     "output_type": "execute_result"
    }
   ],
   "source": [
    "## Add new Column to say whether the user liked or did not like the song\n",
    "df['good_song'] = np.where(df['nb_prop']>=0.5, 1, 0)\n",
    "\n",
    "## if the user listened to the song more than 50% of the times, \n",
    "## we considered it is a good song.\n",
    "\n",
    "# Read in csv file as surprise dataset\n",
    "df_good_song = Dataset.load_from_df(df[['user_id', 'media_id', 'good_song']], reader)\n",
    "\n",
    "# Split into train and test set\n",
    "trainset, testset = train_test_split(df_good_song, test_size = .2)\n",
    "\n",
    "# We'll use the baseline algorithm.\n",
    "algo = BaselineOnly()\n",
    "\n",
    "# Train the algorithm on the trainset, and predict 'good_song' for the testset\n",
    "algo.fit(trainset)\n",
    "predictions = algo.test(testset)\n",
    "\n",
    "# Compute RMSE of predictions\n",
    "accuracy.rmse(predictions)"
   ]
  },
  {
   "cell_type": "markdown",
   "metadata": {
    "id": "d-mEDOql_ZZJ"
   },
   "source": [
    "This one has a slightly higher RMSE of 37%, so we would stick to the previous model."
   ]
  },
  {
   "cell_type": "markdown",
   "metadata": {
    "id": "_vxCXG4LJhoL"
   },
   "source": [
    "### Third Model: \"is_listened\""
   ]
  },
  {
   "cell_type": "markdown",
   "metadata": {
    "id": "pD2qJCPiuvco"
   },
   "source": [
    "Lastly, since it is intended for implicit rating, we tried the SVD++ algorithm, which is an extension of SVD, on the full dataset again."
   ]
  },
  {
   "cell_type": "code",
   "execution_count": null,
   "metadata": {
    "colab": {
     "background_save": true
    },
    "id": "5ApIcS41tPvA",
    "outputId": "12a896e7-db4d-4811-8a14-eed089191a67"
   },
   "outputs": [
    {
     "name": "stdout",
     "output_type": "stream",
     "text": [
      "RMSE: 0.4032\n"
     ]
    },
    {
     "data": {
      "text/plain": [
       "0.4032105995796852"
      ]
     },
     "execution_count": null,
     "metadata": {},
     "output_type": "execute_result"
    }
   ],
   "source": [
    "# Split into train and test set\n",
    "trainset, testset = train_test_split(data_full_is_listened, test_size = .2)\n",
    "\n",
    "# We will use the SVD++ algorithm\n",
    "algo = SVDpp()\n",
    "\n",
    "# Train the algorithm on the trainset, and predict 'is_listened' for the testset\n",
    "algo.fit(trainset)\n",
    "predictions = algo.test(testset)\n",
    "\n",
    "# Compute RMSE of predictions\n",
    "accuracy.rmse(predictions) # RMSE: 0.4032"
   ]
  },
  {
   "cell_type": "markdown",
   "metadata": {
    "id": "C0DH-d3O_oi0"
   },
   "source": [
    "The algorithm designed for implicit ratings took almost a day to run and it performs worse than the previously discussed ones on our created implicit rating. Therefore, we decided to stick to the baseline algorithm trained on the implicit rating 'nb_prop' and the full dataset to predict on the test set."
   ]
  },
  {
   "cell_type": "markdown",
   "metadata": {
    "id": "N4K3d4qOKUuY"
   },
   "source": [
    "### Testing Our Final Model"
   ]
  },
  {
   "cell_type": "code",
   "execution_count": null,
   "metadata": {
    "colab": {
     "base_uri": "https://localhost:8080/",
     "height": 487
    },
    "executionInfo": {
     "elapsed": 918,
     "status": "ok",
     "timestamp": 1645961280519,
     "user": {
      "displayName": "Ferris Storke",
      "photoUrl": "https://lh3.googleusercontent.com/a/default-user=s64",
      "userId": "13517208966880774206"
     },
     "user_tz": -60
    },
    "id": "Te63IoLc7DDX",
    "outputId": "346aefee-5302-4f35-935e-55aa60a60da3"
   },
   "outputs": [
    {
     "data": {
      "text/html": [
       "\n",
       "  <div id=\"df-7c42e3ce-8bbb-4d39-81be-ec9bc4debbdf\">\n",
       "    <div class=\"colab-df-container\">\n",
       "      <div>\n",
       "<style scoped>\n",
       "    .dataframe tbody tr th:only-of-type {\n",
       "        vertical-align: middle;\n",
       "    }\n",
       "\n",
       "    .dataframe tbody tr th {\n",
       "        vertical-align: top;\n",
       "    }\n",
       "\n",
       "    .dataframe thead th {\n",
       "        text-align: right;\n",
       "    }\n",
       "</style>\n",
       "<table border=\"1\" class=\"dataframe\">\n",
       "  <thead>\n",
       "    <tr style=\"text-align: right;\">\n",
       "      <th></th>\n",
       "      <th>sample_id</th>\n",
       "      <th>genre_id</th>\n",
       "      <th>ts_listen</th>\n",
       "      <th>media_id</th>\n",
       "      <th>album_id</th>\n",
       "      <th>context_type</th>\n",
       "      <th>release_date</th>\n",
       "      <th>platform_name</th>\n",
       "      <th>platform_family</th>\n",
       "      <th>media_duration</th>\n",
       "      <th>listen_type</th>\n",
       "      <th>user_gender</th>\n",
       "      <th>user_id</th>\n",
       "      <th>artist_id</th>\n",
       "      <th>user_age</th>\n",
       "      <th>prediction</th>\n",
       "      <th>prediction_binary</th>\n",
       "    </tr>\n",
       "  </thead>\n",
       "  <tbody>\n",
       "    <tr>\n",
       "      <th>14561</th>\n",
       "      <td>14561</td>\n",
       "      <td>0</td>\n",
       "      <td>1480614542</td>\n",
       "      <td>117678828</td>\n",
       "      <td>12219078</td>\n",
       "      <td>1</td>\n",
       "      <td>20151012</td>\n",
       "      <td>0</td>\n",
       "      <td>2</td>\n",
       "      <td>190</td>\n",
       "      <td>1</td>\n",
       "      <td>0</td>\n",
       "      <td>0</td>\n",
       "      <td>468920</td>\n",
       "      <td>26</td>\n",
       "      <td>0.927605</td>\n",
       "      <td>1</td>\n",
       "    </tr>\n",
       "    <tr>\n",
       "      <th>6026</th>\n",
       "      <td>6026</td>\n",
       "      <td>0</td>\n",
       "      <td>1480614639</td>\n",
       "      <td>103870206</td>\n",
       "      <td>10804138</td>\n",
       "      <td>1</td>\n",
       "      <td>20150716</td>\n",
       "      <td>0</td>\n",
       "      <td>2</td>\n",
       "      <td>237</td>\n",
       "      <td>1</td>\n",
       "      <td>1</td>\n",
       "      <td>1</td>\n",
       "      <td>4052518</td>\n",
       "      <td>27</td>\n",
       "      <td>0.922363</td>\n",
       "      <td>1</td>\n",
       "    </tr>\n",
       "    <tr>\n",
       "      <th>9627</th>\n",
       "      <td>9627</td>\n",
       "      <td>0</td>\n",
       "      <td>1480609115</td>\n",
       "      <td>110692486</td>\n",
       "      <td>11516526</td>\n",
       "      <td>1</td>\n",
       "      <td>20151204</td>\n",
       "      <td>1</td>\n",
       "      <td>2</td>\n",
       "      <td>274</td>\n",
       "      <td>1</td>\n",
       "      <td>0</td>\n",
       "      <td>2</td>\n",
       "      <td>5328949</td>\n",
       "      <td>19</td>\n",
       "      <td>0.989921</td>\n",
       "      <td>1</td>\n",
       "    </tr>\n",
       "    <tr>\n",
       "      <th>6064</th>\n",
       "      <td>6064</td>\n",
       "      <td>3645</td>\n",
       "      <td>1480629074</td>\n",
       "      <td>4628432</td>\n",
       "      <td>425785</td>\n",
       "      <td>1</td>\n",
       "      <td>20091102</td>\n",
       "      <td>0</td>\n",
       "      <td>0</td>\n",
       "      <td>479</td>\n",
       "      <td>1</td>\n",
       "      <td>0</td>\n",
       "      <td>3</td>\n",
       "      <td>57456</td>\n",
       "      <td>20</td>\n",
       "      <td>0.916864</td>\n",
       "      <td>1</td>\n",
       "    </tr>\n",
       "    <tr>\n",
       "      <th>8065</th>\n",
       "      <td>8065</td>\n",
       "      <td>14</td>\n",
       "      <td>1480571507</td>\n",
       "      <td>71152679</td>\n",
       "      <td>6985314</td>\n",
       "      <td>1</td>\n",
       "      <td>20130930</td>\n",
       "      <td>0</td>\n",
       "      <td>0</td>\n",
       "      <td>229</td>\n",
       "      <td>1</td>\n",
       "      <td>1</td>\n",
       "      <td>4</td>\n",
       "      <td>1435566</td>\n",
       "      <td>19</td>\n",
       "      <td>0.647138</td>\n",
       "      <td>1</td>\n",
       "    </tr>\n",
       "    <tr>\n",
       "      <th>...</th>\n",
       "      <td>...</td>\n",
       "      <td>...</td>\n",
       "      <td>...</td>\n",
       "      <td>...</td>\n",
       "      <td>...</td>\n",
       "      <td>...</td>\n",
       "      <td>...</td>\n",
       "      <td>...</td>\n",
       "      <td>...</td>\n",
       "      <td>...</td>\n",
       "      <td>...</td>\n",
       "      <td>...</td>\n",
       "      <td>...</td>\n",
       "      <td>...</td>\n",
       "      <td>...</td>\n",
       "      <td>...</td>\n",
       "      <td>...</td>\n",
       "    </tr>\n",
       "    <tr>\n",
       "      <th>16220</th>\n",
       "      <td>16220</td>\n",
       "      <td>0</td>\n",
       "      <td>1480200593</td>\n",
       "      <td>134443920</td>\n",
       "      <td>14333694</td>\n",
       "      <td>1</td>\n",
       "      <td>20161118</td>\n",
       "      <td>0</td>\n",
       "      <td>0</td>\n",
       "      <td>221</td>\n",
       "      <td>1</td>\n",
       "      <td>1</td>\n",
       "      <td>19913</td>\n",
       "      <td>256681</td>\n",
       "      <td>23</td>\n",
       "      <td>0.667902</td>\n",
       "      <td>1</td>\n",
       "    </tr>\n",
       "    <tr>\n",
       "      <th>14757</th>\n",
       "      <td>14757</td>\n",
       "      <td>18</td>\n",
       "      <td>1478288725</td>\n",
       "      <td>3129568</td>\n",
       "      <td>301763</td>\n",
       "      <td>1</td>\n",
       "      <td>20001231</td>\n",
       "      <td>0</td>\n",
       "      <td>0</td>\n",
       "      <td>184</td>\n",
       "      <td>1</td>\n",
       "      <td>1</td>\n",
       "      <td>19914</td>\n",
       "      <td>165</td>\n",
       "      <td>18</td>\n",
       "      <td>0.671172</td>\n",
       "      <td>1</td>\n",
       "    </tr>\n",
       "    <tr>\n",
       "      <th>16969</th>\n",
       "      <td>16969</td>\n",
       "      <td>1153</td>\n",
       "      <td>1478016326</td>\n",
       "      <td>71016062</td>\n",
       "      <td>6971220</td>\n",
       "      <td>1</td>\n",
       "      <td>20120703</td>\n",
       "      <td>1</td>\n",
       "      <td>0</td>\n",
       "      <td>346</td>\n",
       "      <td>1</td>\n",
       "      <td>1</td>\n",
       "      <td>19915</td>\n",
       "      <td>5880172</td>\n",
       "      <td>24</td>\n",
       "      <td>0.656150</td>\n",
       "      <td>1</td>\n",
       "    </tr>\n",
       "    <tr>\n",
       "      <th>4992</th>\n",
       "      <td>4992</td>\n",
       "      <td>0</td>\n",
       "      <td>1478017434</td>\n",
       "      <td>121448102</td>\n",
       "      <td>12690006</td>\n",
       "      <td>1</td>\n",
       "      <td>20160325</td>\n",
       "      <td>0</td>\n",
       "      <td>0</td>\n",
       "      <td>193</td>\n",
       "      <td>1</td>\n",
       "      <td>0</td>\n",
       "      <td>19916</td>\n",
       "      <td>776</td>\n",
       "      <td>25</td>\n",
       "      <td>0.620644</td>\n",
       "      <td>1</td>\n",
       "    </tr>\n",
       "    <tr>\n",
       "      <th>6913</th>\n",
       "      <td>6913</td>\n",
       "      <td>10</td>\n",
       "      <td>1478009685</td>\n",
       "      <td>84841037</td>\n",
       "      <td>8554409</td>\n",
       "      <td>1</td>\n",
       "      <td>20140908</td>\n",
       "      <td>0</td>\n",
       "      <td>0</td>\n",
       "      <td>271</td>\n",
       "      <td>1</td>\n",
       "      <td>0</td>\n",
       "      <td>19917</td>\n",
       "      <td>10336</td>\n",
       "      <td>29</td>\n",
       "      <td>0.657820</td>\n",
       "      <td>1</td>\n",
       "    </tr>\n",
       "  </tbody>\n",
       "</table>\n",
       "<p>19918 rows × 17 columns</p>\n",
       "</div>\n",
       "      <button class=\"colab-df-convert\" onclick=\"convertToInteractive('df-7c42e3ce-8bbb-4d39-81be-ec9bc4debbdf')\"\n",
       "              title=\"Convert this dataframe to an interactive table.\"\n",
       "              style=\"display:none;\">\n",
       "        \n",
       "  <svg xmlns=\"http://www.w3.org/2000/svg\" height=\"24px\"viewBox=\"0 0 24 24\"\n",
       "       width=\"24px\">\n",
       "    <path d=\"M0 0h24v24H0V0z\" fill=\"none\"/>\n",
       "    <path d=\"M18.56 5.44l.94 2.06.94-2.06 2.06-.94-2.06-.94-.94-2.06-.94 2.06-2.06.94zm-11 1L8.5 8.5l.94-2.06 2.06-.94-2.06-.94L8.5 2.5l-.94 2.06-2.06.94zm10 10l.94 2.06.94-2.06 2.06-.94-2.06-.94-.94-2.06-.94 2.06-2.06.94z\"/><path d=\"M17.41 7.96l-1.37-1.37c-.4-.4-.92-.59-1.43-.59-.52 0-1.04.2-1.43.59L10.3 9.45l-7.72 7.72c-.78.78-.78 2.05 0 2.83L4 21.41c.39.39.9.59 1.41.59.51 0 1.02-.2 1.41-.59l7.78-7.78 2.81-2.81c.8-.78.8-2.07 0-2.86zM5.41 20L4 18.59l7.72-7.72 1.47 1.35L5.41 20z\"/>\n",
       "  </svg>\n",
       "      </button>\n",
       "      \n",
       "  <style>\n",
       "    .colab-df-container {\n",
       "      display:flex;\n",
       "      flex-wrap:wrap;\n",
       "      gap: 12px;\n",
       "    }\n",
       "\n",
       "    .colab-df-convert {\n",
       "      background-color: #E8F0FE;\n",
       "      border: none;\n",
       "      border-radius: 50%;\n",
       "      cursor: pointer;\n",
       "      display: none;\n",
       "      fill: #1967D2;\n",
       "      height: 32px;\n",
       "      padding: 0 0 0 0;\n",
       "      width: 32px;\n",
       "    }\n",
       "\n",
       "    .colab-df-convert:hover {\n",
       "      background-color: #E2EBFA;\n",
       "      box-shadow: 0px 1px 2px rgba(60, 64, 67, 0.3), 0px 1px 3px 1px rgba(60, 64, 67, 0.15);\n",
       "      fill: #174EA6;\n",
       "    }\n",
       "\n",
       "    [theme=dark] .colab-df-convert {\n",
       "      background-color: #3B4455;\n",
       "      fill: #D2E3FC;\n",
       "    }\n",
       "\n",
       "    [theme=dark] .colab-df-convert:hover {\n",
       "      background-color: #434B5C;\n",
       "      box-shadow: 0px 1px 3px 1px rgba(0, 0, 0, 0.15);\n",
       "      filter: drop-shadow(0px 1px 2px rgba(0, 0, 0, 0.3));\n",
       "      fill: #FFFFFF;\n",
       "    }\n",
       "  </style>\n",
       "\n",
       "      <script>\n",
       "        const buttonEl =\n",
       "          document.querySelector('#df-7c42e3ce-8bbb-4d39-81be-ec9bc4debbdf button.colab-df-convert');\n",
       "        buttonEl.style.display =\n",
       "          google.colab.kernel.accessAllowed ? 'block' : 'none';\n",
       "\n",
       "        async function convertToInteractive(key) {\n",
       "          const element = document.querySelector('#df-7c42e3ce-8bbb-4d39-81be-ec9bc4debbdf');\n",
       "          const dataTable =\n",
       "            await google.colab.kernel.invokeFunction('convertToInteractive',\n",
       "                                                     [key], {});\n",
       "          if (!dataTable) return;\n",
       "\n",
       "          const docLinkHtml = 'Like what you see? Visit the ' +\n",
       "            '<a target=\"_blank\" href=https://colab.research.google.com/notebooks/data_table.ipynb>data table notebook</a>'\n",
       "            + ' to learn more about interactive tables.';\n",
       "          element.innerHTML = '';\n",
       "          dataTable['output_type'] = 'display_data';\n",
       "          await google.colab.output.renderOutput(dataTable, element);\n",
       "          const docLink = document.createElement('div');\n",
       "          docLink.innerHTML = docLinkHtml;\n",
       "          element.appendChild(docLink);\n",
       "        }\n",
       "      </script>\n",
       "    </div>\n",
       "  </div>\n",
       "  "
      ],
      "text/plain": [
       "       sample_id  genre_id   ts_listen  ...  user_age  prediction  prediction_binary\n",
       "14561      14561         0  1480614542  ...        26    0.927605                  1\n",
       "6026        6026         0  1480614639  ...        27    0.922363                  1\n",
       "9627        9627         0  1480609115  ...        19    0.989921                  1\n",
       "6064        6064      3645  1480629074  ...        20    0.916864                  1\n",
       "8065        8065        14  1480571507  ...        19    0.647138                  1\n",
       "...          ...       ...         ...  ...       ...         ...                ...\n",
       "16220      16220         0  1480200593  ...        23    0.667902                  1\n",
       "14757      14757        18  1478288725  ...        18    0.671172                  1\n",
       "16969      16969      1153  1478016326  ...        24    0.656150                  1\n",
       "4992        4992         0  1478017434  ...        25    0.620644                  1\n",
       "6913        6913        10  1478009685  ...        29    0.657820                  1\n",
       "\n",
       "[19918 rows x 17 columns]"
      ]
     },
     "execution_count": 7,
     "metadata": {},
     "output_type": "execute_result"
    }
   ],
   "source": [
    "# Use trained algorithm to predict on the test set\n",
    "preds = []\n",
    "for _, row in test.iterrows():\n",
    "  pred = algo.predict(row.user_id, row.media_id)\n",
    "  preds.append(pred.est)\n",
    "\n",
    "test['prediction'] = preds\n",
    "test['prediction_binary'] = np.where(test['prediction'] > .5, 1, 0)\n",
    "test.to_csv(f'{path}/data/final_submission.csv', index = False)\n",
    "test = pd.read_csv(f'{path}/data/final_submission.csv')\n",
    "test.sort_values('user_id')"
   ]
  },
  {
   "cell_type": "markdown",
   "metadata": {
    "id": "8NUMDJ5cA_ha"
   },
   "source": [
    "Using the best performing model, we created a prediction of how likely a user will be to not skip a given song for all songs in the test set, which can be found in the file \"final_submission.csv\" (the column \"prediction\" is showing the likelihood that a user will not skip the song and the column \"prediction_binary\" the final prediction)."
   ]
  },
  {
   "cell_type": "markdown",
   "metadata": {
    "id": "ItrG8OxXBncH"
   },
   "source": [
    "## Additional Work"
   ]
  },
  {
   "cell_type": "markdown",
   "metadata": {
    "id": "vx9vmGO9wZtp"
   },
   "source": [
    "Before fitting different surprise models, we actually thought about how we could build our own model to predict whether the users in the test set will listen to the proposed song. However, since the individual steps turned out to be very time-consuming, we left this after receiving a list of the 100 most similar songs and 100 most similar users for all songs and users in the train set."
   ]
  },
  {
   "cell_type": "markdown",
   "metadata": {
    "id": "NC-xvBo6UyHA"
   },
   "source": [
    "Find 100 most similar songs"
   ]
  },
  {
   "cell_type": "code",
   "execution_count": null,
   "metadata": {
    "id": "JZiYUclqU0mM"
   },
   "outputs": [],
   "source": [
    "# Inspired by https://github.com/benfred/bens-blog-code/blob/cb1ce7094ffb8149d5697408036620837bd8b70e/distance-metrics/calculate_similar.py#L68"
   ]
  },
  {
   "cell_type": "code",
   "execution_count": null,
   "metadata": {
    "id": "UqDfSa3NU2A0"
   },
   "outputs": [],
   "source": [
    "# group users and songs and count combinations\n",
    "count_series = train[['user_id', 'artist_id', 'media_id', 'is_listened']].groupby(['user_id', 'media_id']).size()\n",
    "user_song_plays = count_series.to_frame(name = 'plays').reset_index()\n",
    "user_song_plays['user_id'] = user_song_plays['user_id'].astype('category')\n",
    "user_song_plays['media_id'] = user_song_plays['media_id'].astype('category')"
   ]
  },
  {
   "cell_type": "code",
   "execution_count": null,
   "metadata": {
    "id": "nP9KH39CDEpx"
   },
   "outputs": [],
   "source": [
    "def get_largest(row, N=100):\n",
    "    if N >= row.nnz:\n",
    "        best = zip(row.data, row.indices)\n",
    "    else:\n",
    "        ind = np.argpartition(row.data, -N)[-N:]\n",
    "        best = zip(row.data[ind], row.indices[ind])\n",
    "    return sorted(best, reverse=True)\n",
    "\n",
    "def cosine(plays):\n",
    "    normalized = normalize(plays)\n",
    "    return normalized.dot(normalized.T)    \n",
    "\n",
    "def calculate_similar_songs(similarity, songs, song):\n",
    "    neighbours = similarity[song]\n",
    "    top = get_largest(neighbours)\n",
    "    return [(songs[other], score, i) for i, (score, other) in enumerate(top)]"
   ]
  },
  {
   "cell_type": "code",
   "execution_count": null,
   "metadata": {
    "id": "MVvgGO2VU38g"
   },
   "outputs": [],
   "source": [
    "plays = coo_matrix((user_song_plays['plays'],\n",
    "                    (user_song_plays['media_id'].cat.codes.copy(),\n",
    "                     user_song_plays['user_id'].cat.codes.copy())))\n",
    "songs = dict(enumerate(user_song_plays['media_id'].cat.categories))\n",
    "user_count = user_song_plays.groupby('media_id').size()\n",
    "to_generate = sorted(list(songs), key=lambda x: -user_count[x])\n",
    "similarity = cosine(plays)\n",
    "\n",
    "names , others, scores, ranks = [], [], [], []\n",
    "\n",
    "for song in to_generate:\n",
    "  name = songs[song]\n",
    "  for other, score, rank in calculate_similar_songs(similarity, songs, song):\n",
    "    names.append(name)\n",
    "    others.append(other)\n",
    "    scores.append(score)\n",
    "    ranks.append(rank)\n",
    "\n",
    "most_similar_songs = pd.DataFrame({'media_id': names, 'media_id_similar': others, 'score': scores, 'rank': ranks})\n",
    "most_similar_songs.to_csv(f'{path}/data/100 similar songs.csv', index = False)"
   ]
  },
  {
   "cell_type": "code",
   "execution_count": null,
   "metadata": {
    "colab": {
     "base_uri": "https://localhost:8080/",
     "height": 206
    },
    "executionInfo": {
     "elapsed": 19231,
     "status": "ok",
     "timestamp": 1644911017871,
     "user": {
      "displayName": "Ferris Storke",
      "photoUrl": "https://lh3.googleusercontent.com/a/default-user=s64",
      "userId": "13517208966880774206"
     },
     "user_tz": -60
    },
    "id": "0NbrCb5pU9Kl",
    "outputId": "770e2a1a-1bd8-4931-8996-021a40dea6fd"
   },
   "outputs": [
    {
     "data": {
      "text/html": [
       "\n",
       "  <div id=\"df-14900e36-f9f5-4913-942e-bc61403e8ac3\">\n",
       "    <div class=\"colab-df-container\">\n",
       "      <div>\n",
       "<style scoped>\n",
       "    .dataframe tbody tr th:only-of-type {\n",
       "        vertical-align: middle;\n",
       "    }\n",
       "\n",
       "    .dataframe tbody tr th {\n",
       "        vertical-align: top;\n",
       "    }\n",
       "\n",
       "    .dataframe thead th {\n",
       "        text-align: right;\n",
       "    }\n",
       "</style>\n",
       "<table border=\"1\" class=\"dataframe\">\n",
       "  <thead>\n",
       "    <tr style=\"text-align: right;\">\n",
       "      <th></th>\n",
       "      <th>media_id</th>\n",
       "      <th>media_id_similar</th>\n",
       "      <th>score</th>\n",
       "      <th>rank</th>\n",
       "    </tr>\n",
       "  </thead>\n",
       "  <tbody>\n",
       "    <tr>\n",
       "      <th>0</th>\n",
       "      <td>132434634</td>\n",
       "      <td>132434634</td>\n",
       "      <td>1.000000</td>\n",
       "      <td>0</td>\n",
       "    </tr>\n",
       "    <tr>\n",
       "      <th>1</th>\n",
       "      <td>132434634</td>\n",
       "      <td>125890431</td>\n",
       "      <td>0.496155</td>\n",
       "      <td>1</td>\n",
       "    </tr>\n",
       "    <tr>\n",
       "      <th>2</th>\n",
       "      <td>132434634</td>\n",
       "      <td>122927594</td>\n",
       "      <td>0.458171</td>\n",
       "      <td>2</td>\n",
       "    </tr>\n",
       "    <tr>\n",
       "      <th>3</th>\n",
       "      <td>132434634</td>\n",
       "      <td>129121520</td>\n",
       "      <td>0.422151</td>\n",
       "      <td>3</td>\n",
       "    </tr>\n",
       "    <tr>\n",
       "      <th>4</th>\n",
       "      <td>132434634</td>\n",
       "      <td>134748108</td>\n",
       "      <td>0.406118</td>\n",
       "      <td>4</td>\n",
       "    </tr>\n",
       "  </tbody>\n",
       "</table>\n",
       "</div>\n",
       "      <button class=\"colab-df-convert\" onclick=\"convertToInteractive('df-14900e36-f9f5-4913-942e-bc61403e8ac3')\"\n",
       "              title=\"Convert this dataframe to an interactive table.\"\n",
       "              style=\"display:none;\">\n",
       "        \n",
       "  <svg xmlns=\"http://www.w3.org/2000/svg\" height=\"24px\"viewBox=\"0 0 24 24\"\n",
       "       width=\"24px\">\n",
       "    <path d=\"M0 0h24v24H0V0z\" fill=\"none\"/>\n",
       "    <path d=\"M18.56 5.44l.94 2.06.94-2.06 2.06-.94-2.06-.94-.94-2.06-.94 2.06-2.06.94zm-11 1L8.5 8.5l.94-2.06 2.06-.94-2.06-.94L8.5 2.5l-.94 2.06-2.06.94zm10 10l.94 2.06.94-2.06 2.06-.94-2.06-.94-.94-2.06-.94 2.06-2.06.94z\"/><path d=\"M17.41 7.96l-1.37-1.37c-.4-.4-.92-.59-1.43-.59-.52 0-1.04.2-1.43.59L10.3 9.45l-7.72 7.72c-.78.78-.78 2.05 0 2.83L4 21.41c.39.39.9.59 1.41.59.51 0 1.02-.2 1.41-.59l7.78-7.78 2.81-2.81c.8-.78.8-2.07 0-2.86zM5.41 20L4 18.59l7.72-7.72 1.47 1.35L5.41 20z\"/>\n",
       "  </svg>\n",
       "      </button>\n",
       "      \n",
       "  <style>\n",
       "    .colab-df-container {\n",
       "      display:flex;\n",
       "      flex-wrap:wrap;\n",
       "      gap: 12px;\n",
       "    }\n",
       "\n",
       "    .colab-df-convert {\n",
       "      background-color: #E8F0FE;\n",
       "      border: none;\n",
       "      border-radius: 50%;\n",
       "      cursor: pointer;\n",
       "      display: none;\n",
       "      fill: #1967D2;\n",
       "      height: 32px;\n",
       "      padding: 0 0 0 0;\n",
       "      width: 32px;\n",
       "    }\n",
       "\n",
       "    .colab-df-convert:hover {\n",
       "      background-color: #E2EBFA;\n",
       "      box-shadow: 0px 1px 2px rgba(60, 64, 67, 0.3), 0px 1px 3px 1px rgba(60, 64, 67, 0.15);\n",
       "      fill: #174EA6;\n",
       "    }\n",
       "\n",
       "    [theme=dark] .colab-df-convert {\n",
       "      background-color: #3B4455;\n",
       "      fill: #D2E3FC;\n",
       "    }\n",
       "\n",
       "    [theme=dark] .colab-df-convert:hover {\n",
       "      background-color: #434B5C;\n",
       "      box-shadow: 0px 1px 3px 1px rgba(0, 0, 0, 0.15);\n",
       "      filter: drop-shadow(0px 1px 2px rgba(0, 0, 0, 0.3));\n",
       "      fill: #FFFFFF;\n",
       "    }\n",
       "  </style>\n",
       "\n",
       "      <script>\n",
       "        const buttonEl =\n",
       "          document.querySelector('#df-14900e36-f9f5-4913-942e-bc61403e8ac3 button.colab-df-convert');\n",
       "        buttonEl.style.display =\n",
       "          google.colab.kernel.accessAllowed ? 'block' : 'none';\n",
       "\n",
       "        async function convertToInteractive(key) {\n",
       "          const element = document.querySelector('#df-14900e36-f9f5-4913-942e-bc61403e8ac3');\n",
       "          const dataTable =\n",
       "            await google.colab.kernel.invokeFunction('convertToInteractive',\n",
       "                                                     [key], {});\n",
       "          if (!dataTable) return;\n",
       "\n",
       "          const docLinkHtml = 'Like what you see? Visit the ' +\n",
       "            '<a target=\"_blank\" href=https://colab.research.google.com/notebooks/data_table.ipynb>data table notebook</a>'\n",
       "            + ' to learn more about interactive tables.';\n",
       "          element.innerHTML = '';\n",
       "          dataTable['output_type'] = 'display_data';\n",
       "          await google.colab.output.renderOutput(dataTable, element);\n",
       "          const docLink = document.createElement('div');\n",
       "          docLink.innerHTML = docLinkHtml;\n",
       "          element.appendChild(docLink);\n",
       "        }\n",
       "      </script>\n",
       "    </div>\n",
       "  </div>\n",
       "  "
      ],
      "text/plain": [
       "    media_id  media_id_similar     score  rank\n",
       "0  132434634         132434634  1.000000     0\n",
       "1  132434634         125890431  0.496155     1\n",
       "2  132434634         122927594  0.458171     2\n",
       "3  132434634         129121520  0.422151     3\n",
       "4  132434634         134748108  0.406118     4"
      ]
     },
     "execution_count": 82,
     "metadata": {},
     "output_type": "execute_result"
    }
   ],
   "source": [
    "# Reload from saved file\n",
    "most_similar_songs = pd.read_csv(f'{path}/data/100 similar songs.csv')\n",
    "most_similar_songs.head()"
   ]
  },
  {
   "cell_type": "markdown",
   "metadata": {
    "id": "2dkArswLbq0b"
   },
   "source": [
    "Due to the large size of the resulting file (> 1.5 GB), it is not included in the submission folder."
   ]
  },
  {
   "cell_type": "markdown",
   "metadata": {
    "id": "zdqTf4PSVDy_"
   },
   "source": [
    "Find 100 most similar users"
   ]
  },
  {
   "cell_type": "code",
   "execution_count": null,
   "metadata": {
    "colab": {
     "background_save": true
    },
    "id": "dBpQwCAJVPHM"
   },
   "outputs": [],
   "source": [
    "reader = Reader(rating_scale = (0, 1))\n",
    "data = Dataset.load_from_df(train[['user_id', 'media_id', 'is_listened']], reader)\n",
    "\n",
    "# Split into train and test set\n",
    "trainset, testset = train_test_split(data, test_size = .2)\n",
    "\n",
    "\n",
    "sim_options = {'name': 'cosine',\n",
    "               'user_based': True\n",
    "               }\n",
    "k = 100\n",
    "\n",
    "model = KNNBasic(sim_options=sim_options)\n",
    "model.fit(trainset)\n",
    "simsMatrix = model.compute_similarities()\n",
    "\n",
    "# Get top 100 similar users to our test subject\n",
    "# (Alternate approach would be to select users up to some similarity threshold - try it!)\n",
    "users = dict(enumerate(user_song_plays['user_id'].cat.categories))\n",
    "\n",
    "neighbours = {}\n",
    "k = 100\n",
    "for user in users:\n",
    "  try:\n",
    "    testUserInnerID = trainset.to_inner_uid(user)\n",
    "    similarityRow = simsMatrix[testUserInnerID]\n",
    "\n",
    "    similarUsers = []\n",
    "    for innerID, score in enumerate(similarityRow):\n",
    "        if (innerID != testUserInnerID):\n",
    "            similarUsers.append( (innerID, score) )\n",
    "\n",
    "    kNeighbors = heapq.nlargest(k, similarUsers, key=lambda t: t[1])\n",
    "    neighbours[user] = list(kNeighbors)\n",
    "  except:\n",
    "    print('User not in trainset.')\n",
    "    pass\n",
    "\n",
    "df_save = pd.DataFrame(neighbours)\n",
    "df_save.to_csv(f'{path}/data/100 neighbours.csv', index = False)"
   ]
  },
  {
   "cell_type": "code",
   "execution_count": null,
   "metadata": {
    "colab": {
     "base_uri": "https://localhost:8080/",
     "height": 661
    },
    "executionInfo": {
     "elapsed": 8693,
     "status": "ok",
     "timestamp": 1644962107427,
     "user": {
      "displayName": "Ferris Storke",
      "photoUrl": "https://lh3.googleusercontent.com/a/default-user=s64",
      "userId": "13517208966880774206"
     },
     "user_tz": -60
    },
    "id": "Y9tI219Qj2qt",
    "outputId": "e19a624d-c5ad-4aef-dd45-527d0a9866d2"
   },
   "outputs": [
    {
     "data": {
      "text/html": [
       "\n",
       "  <div id=\"df-892182a8-d3ad-4e65-9809-96e99ecf81ea\">\n",
       "    <div class=\"colab-df-container\">\n",
       "      <div>\n",
       "<style scoped>\n",
       "    .dataframe tbody tr th:only-of-type {\n",
       "        vertical-align: middle;\n",
       "    }\n",
       "\n",
       "    .dataframe tbody tr th {\n",
       "        vertical-align: top;\n",
       "    }\n",
       "\n",
       "    .dataframe thead th {\n",
       "        text-align: right;\n",
       "    }\n",
       "</style>\n",
       "<table border=\"1\" class=\"dataframe\">\n",
       "  <thead>\n",
       "    <tr style=\"text-align: right;\">\n",
       "      <th></th>\n",
       "      <th>0</th>\n",
       "      <th>1</th>\n",
       "      <th>2</th>\n",
       "      <th>3</th>\n",
       "      <th>4</th>\n",
       "      <th>5</th>\n",
       "      <th>6</th>\n",
       "      <th>7</th>\n",
       "      <th>8</th>\n",
       "      <th>9</th>\n",
       "      <th>10</th>\n",
       "      <th>11</th>\n",
       "      <th>12</th>\n",
       "      <th>13</th>\n",
       "      <th>14</th>\n",
       "      <th>15</th>\n",
       "      <th>16</th>\n",
       "      <th>17</th>\n",
       "      <th>18</th>\n",
       "      <th>19</th>\n",
       "      <th>20</th>\n",
       "      <th>21</th>\n",
       "      <th>22</th>\n",
       "      <th>23</th>\n",
       "      <th>24</th>\n",
       "      <th>25</th>\n",
       "      <th>26</th>\n",
       "      <th>27</th>\n",
       "      <th>28</th>\n",
       "      <th>29</th>\n",
       "      <th>30</th>\n",
       "      <th>31</th>\n",
       "      <th>32</th>\n",
       "      <th>33</th>\n",
       "      <th>34</th>\n",
       "      <th>35</th>\n",
       "      <th>36</th>\n",
       "      <th>37</th>\n",
       "      <th>38</th>\n",
       "      <th>39</th>\n",
       "      <th>...</th>\n",
       "      <th>19866</th>\n",
       "      <th>19867</th>\n",
       "      <th>19868</th>\n",
       "      <th>19869</th>\n",
       "      <th>19870</th>\n",
       "      <th>19872</th>\n",
       "      <th>19873</th>\n",
       "      <th>19875</th>\n",
       "      <th>19876</th>\n",
       "      <th>19877</th>\n",
       "      <th>19881</th>\n",
       "      <th>19883</th>\n",
       "      <th>19884</th>\n",
       "      <th>19885</th>\n",
       "      <th>19886</th>\n",
       "      <th>19887</th>\n",
       "      <th>19888</th>\n",
       "      <th>19889</th>\n",
       "      <th>19890</th>\n",
       "      <th>19891</th>\n",
       "      <th>19892</th>\n",
       "      <th>19893</th>\n",
       "      <th>19894</th>\n",
       "      <th>19895</th>\n",
       "      <th>19896</th>\n",
       "      <th>19897</th>\n",
       "      <th>19898</th>\n",
       "      <th>19899</th>\n",
       "      <th>19900</th>\n",
       "      <th>19901</th>\n",
       "      <th>19903</th>\n",
       "      <th>19905</th>\n",
       "      <th>19906</th>\n",
       "      <th>19909</th>\n",
       "      <th>19910</th>\n",
       "      <th>19912</th>\n",
       "      <th>19914</th>\n",
       "      <th>19915</th>\n",
       "      <th>19916</th>\n",
       "      <th>19917</th>\n",
       "    </tr>\n",
       "  </thead>\n",
       "  <tbody>\n",
       "    <tr>\n",
       "      <th>0</th>\n",
       "      <td>(46, 1.0)</td>\n",
       "      <td>(32, nan)</td>\n",
       "      <td>(22, 1.0)</td>\n",
       "      <td>(2, nan)</td>\n",
       "      <td>(78, nan)</td>\n",
       "      <td>(46, nan)</td>\n",
       "      <td>(26, nan)</td>\n",
       "      <td>(5, nan)</td>\n",
       "      <td>(16, 1.0)</td>\n",
       "      <td>(46, nan)</td>\n",
       "      <td>(125, 1.0)</td>\n",
       "      <td>(50, nan)</td>\n",
       "      <td>(522, 1.0)</td>\n",
       "      <td>(14, nan)</td>\n",
       "      <td>(94, nan)</td>\n",
       "      <td>(54, nan)</td>\n",
       "      <td>(314, 1.0)</td>\n",
       "      <td>(51, 1.0)</td>\n",
       "      <td>(94, nan)</td>\n",
       "      <td>(104, 1.0)</td>\n",
       "      <td>(54, nan)</td>\n",
       "      <td>(331, 1.0)</td>\n",
       "      <td>(5, nan)</td>\n",
       "      <td>(94, nan)</td>\n",
       "      <td>(66, nan)</td>\n",
       "      <td>(97, 1.0)</td>\n",
       "      <td>(1127, 1.0)</td>\n",
       "      <td>(78, nan)</td>\n",
       "      <td>(160, 1.0)</td>\n",
       "      <td>(46, nan)</td>\n",
       "      <td>(38, nan)</td>\n",
       "      <td>(48, nan)</td>\n",
       "      <td>(78, nan)</td>\n",
       "      <td>(46, 1.0)</td>\n",
       "      <td>(3765, 1.0)</td>\n",
       "      <td>(360, 1.0)</td>\n",
       "      <td>(48, 1.0)</td>\n",
       "      <td>(94, nan)</td>\n",
       "      <td>(48, nan)</td>\n",
       "      <td>(78, nan)</td>\n",
       "      <td>...</td>\n",
       "      <td>(0, 0.0)</td>\n",
       "      <td>(54, nan)</td>\n",
       "      <td>(25, nan)</td>\n",
       "      <td>(94, nan)</td>\n",
       "      <td>(0, 0.0)</td>\n",
       "      <td>(0, 0.0)</td>\n",
       "      <td>(184, 1.0)</td>\n",
       "      <td>(30, 0.0)</td>\n",
       "      <td>(30, 0.0)</td>\n",
       "      <td>(0, 0.0)</td>\n",
       "      <td>(34, nan)</td>\n",
       "      <td>(54, nan)</td>\n",
       "      <td>(134, 1.0)</td>\n",
       "      <td>(71, 1.0)</td>\n",
       "      <td>(5, nan)</td>\n",
       "      <td>(0, 0.0)</td>\n",
       "      <td>(2536, 1.0)</td>\n",
       "      <td>(0, 0.0)</td>\n",
       "      <td>(0, 0.0)</td>\n",
       "      <td>(34, nan)</td>\n",
       "      <td>(94, nan)</td>\n",
       "      <td>(70, nan)</td>\n",
       "      <td>(46, nan)</td>\n",
       "      <td>(56, nan)</td>\n",
       "      <td>(210, 1.0)</td>\n",
       "      <td>(58, nan)</td>\n",
       "      <td>(30, 0.0)</td>\n",
       "      <td>(16, 1.0)</td>\n",
       "      <td>(0, 0.0)</td>\n",
       "      <td>(94, nan)</td>\n",
       "      <td>(2240, 1.0)</td>\n",
       "      <td>(0, 0.0)</td>\n",
       "      <td>(38, nan)</td>\n",
       "      <td>(338, 1.0)</td>\n",
       "      <td>(0, 0.0)</td>\n",
       "      <td>(37, nan)</td>\n",
       "      <td>(30, nan)</td>\n",
       "      <td>(0, 0.0)</td>\n",
       "      <td>(117, 1.0)</td>\n",
       "      <td>(18, 1.0)</td>\n",
       "    </tr>\n",
       "    <tr>\n",
       "      <th>1</th>\n",
       "      <td>(104, 1.0)</td>\n",
       "      <td>(46, 1.0)</td>\n",
       "      <td>(41, 1.0)</td>\n",
       "      <td>(54, nan)</td>\n",
       "      <td>(1220, 1.0)</td>\n",
       "      <td>(32, nan)</td>\n",
       "      <td>(32, nan)</td>\n",
       "      <td>(144, 1.0)</td>\n",
       "      <td>(48, 1.0)</td>\n",
       "      <td>(22, nan)</td>\n",
       "      <td>(3081, 1.0)</td>\n",
       "      <td>(6000, 1.0)</td>\n",
       "      <td>(677, 1.0)</td>\n",
       "      <td>(94, nan)</td>\n",
       "      <td>(54, nan)</td>\n",
       "      <td>(32, nan)</td>\n",
       "      <td>(564, 1.0)</td>\n",
       "      <td>(32, nan)</td>\n",
       "      <td>(50, nan)</td>\n",
       "      <td>(222, 1.0)</td>\n",
       "      <td>(32, nan)</td>\n",
       "      <td>(631, 1.0)</td>\n",
       "      <td>(2811, 1.0)</td>\n",
       "      <td>(86, nan)</td>\n",
       "      <td>(31, 1.0)</td>\n",
       "      <td>(524, 1.0)</td>\n",
       "      <td>(1842, 1.0)</td>\n",
       "      <td>(80, nan)</td>\n",
       "      <td>(176, 1.0)</td>\n",
       "      <td>(84, nan)</td>\n",
       "      <td>(60, nan)</td>\n",
       "      <td>(2073, 1.0)</td>\n",
       "      <td>(56, nan)</td>\n",
       "      <td>(75, 1.0)</td>\n",
       "      <td>(6050, 1.0)</td>\n",
       "      <td>(459, 1.0)</td>\n",
       "      <td>(50, 1.0)</td>\n",
       "      <td>(54, nan)</td>\n",
       "      <td>(2330, 1.0)</td>\n",
       "      <td>(48, nan)</td>\n",
       "      <td>...</td>\n",
       "      <td>(1, 0.0)</td>\n",
       "      <td>(26, nan)</td>\n",
       "      <td>(192, 1.0)</td>\n",
       "      <td>(82, nan)</td>\n",
       "      <td>(1, 0.0)</td>\n",
       "      <td>(1, 0.0)</td>\n",
       "      <td>(211, 1.0)</td>\n",
       "      <td>(34, 0.0)</td>\n",
       "      <td>(34, 0.0)</td>\n",
       "      <td>(1, 0.0)</td>\n",
       "      <td>(26, nan)</td>\n",
       "      <td>(37, nan)</td>\n",
       "      <td>(663, 1.0)</td>\n",
       "      <td>(384, 1.0)</td>\n",
       "      <td>(82, 1.0)</td>\n",
       "      <td>(1, 0.0)</td>\n",
       "      <td>(13751, 1.0)</td>\n",
       "      <td>(1, 0.0)</td>\n",
       "      <td>(1, 0.0)</td>\n",
       "      <td>(82, nan)</td>\n",
       "      <td>(54, nan)</td>\n",
       "      <td>(26, nan)</td>\n",
       "      <td>(70, nan)</td>\n",
       "      <td>(25, 1.0)</td>\n",
       "      <td>(438, 1.0)</td>\n",
       "      <td>(26, 0.0)</td>\n",
       "      <td>(34, 0.0)</td>\n",
       "      <td>(20, 1.0)</td>\n",
       "      <td>(1, 0.0)</td>\n",
       "      <td>(46, nan)</td>\n",
       "      <td>(3540, 1.0)</td>\n",
       "      <td>(1, 0.0)</td>\n",
       "      <td>(58, nan)</td>\n",
       "      <td>(2072, 1.0)</td>\n",
       "      <td>(1, 0.0)</td>\n",
       "      <td>(21, 1.0)</td>\n",
       "      <td>(52, nan)</td>\n",
       "      <td>(1, 0.0)</td>\n",
       "      <td>(121, 1.0)</td>\n",
       "      <td>(50, 1.0)</td>\n",
       "    </tr>\n",
       "    <tr>\n",
       "      <th>2</th>\n",
       "      <td>(245, 1.0)</td>\n",
       "      <td>(245, 1.0)</td>\n",
       "      <td>(46, 1.0)</td>\n",
       "      <td>(32, nan)</td>\n",
       "      <td>(1994, 1.0)</td>\n",
       "      <td>(22, 1.0)</td>\n",
       "      <td>(74, nan)</td>\n",
       "      <td>(429, 1.0)</td>\n",
       "      <td>(125, 1.0)</td>\n",
       "      <td>(70, nan)</td>\n",
       "      <td>(3114, 1.0)</td>\n",
       "      <td>(6723, 1.0)</td>\n",
       "      <td>(772, 1.0)</td>\n",
       "      <td>(74, nan)</td>\n",
       "      <td>(293, 1.0)</td>\n",
       "      <td>(229, 1.0)</td>\n",
       "      <td>(1000, 1.0)</td>\n",
       "      <td>(46, 1.0)</td>\n",
       "      <td>(28, nan)</td>\n",
       "      <td>(245, 1.0)</td>\n",
       "      <td>(326, 1.0)</td>\n",
       "      <td>(772, 1.0)</td>\n",
       "      <td>(5073, 1.0)</td>\n",
       "      <td>(32, nan)</td>\n",
       "      <td>(245, 1.0)</td>\n",
       "      <td>(854, 1.0)</td>\n",
       "      <td>(80, nan)</td>\n",
       "      <td>(140, 1.0)</td>\n",
       "      <td>(185, 1.0)</td>\n",
       "      <td>(22, 1.0)</td>\n",
       "      <td>(375, 1.0)</td>\n",
       "      <td>(9144, 1.0)</td>\n",
       "      <td>(60, nan)</td>\n",
       "      <td>(97, 1.0)</td>\n",
       "      <td>(6160, 1.0)</td>\n",
       "      <td>(460, 1.0)</td>\n",
       "      <td>(160, 1.0)</td>\n",
       "      <td>(854, 1.0)</td>\n",
       "      <td>(2349, 1.0)</td>\n",
       "      <td>(3338, 1.0)</td>\n",
       "      <td>...</td>\n",
       "      <td>(2, 0.0)</td>\n",
       "      <td>(215, 1.0)</td>\n",
       "      <td>(505, 1.0)</td>\n",
       "      <td>(98, nan)</td>\n",
       "      <td>(2, 0.0)</td>\n",
       "      <td>(2, 0.0)</td>\n",
       "      <td>(260, 1.0)</td>\n",
       "      <td>(38, 0.0)</td>\n",
       "      <td>(38, 0.0)</td>\n",
       "      <td>(2, 0.0)</td>\n",
       "      <td>(30, 0.0)</td>\n",
       "      <td>(41, nan)</td>\n",
       "      <td>(776, 1.0)</td>\n",
       "      <td>(386, 1.0)</td>\n",
       "      <td>(134, 1.0)</td>\n",
       "      <td>(2, 0.0)</td>\n",
       "      <td>(0, 0.0)</td>\n",
       "      <td>(2, 0.0)</td>\n",
       "      <td>(2, 0.0)</td>\n",
       "      <td>(42, nan)</td>\n",
       "      <td>(26, nan)</td>\n",
       "      <td>(82, nan)</td>\n",
       "      <td>(26, nan)</td>\n",
       "      <td>(31, 1.0)</td>\n",
       "      <td>(524, 1.0)</td>\n",
       "      <td>(30, 0.0)</td>\n",
       "      <td>(38, 0.0)</td>\n",
       "      <td>(50, 1.0)</td>\n",
       "      <td>(2, 0.0)</td>\n",
       "      <td>(0, 0.0)</td>\n",
       "      <td>(4836, 1.0)</td>\n",
       "      <td>(2, 0.0)</td>\n",
       "      <td>(82, nan)</td>\n",
       "      <td>(2598, 1.0)</td>\n",
       "      <td>(2, 0.0)</td>\n",
       "      <td>(70, 1.0)</td>\n",
       "      <td>(147, 1.0)</td>\n",
       "      <td>(2, 0.0)</td>\n",
       "      <td>(175, 1.0)</td>\n",
       "      <td>(89, 1.0)</td>\n",
       "    </tr>\n",
       "    <tr>\n",
       "      <th>3</th>\n",
       "      <td>(355, 1.0)</td>\n",
       "      <td>(309, 1.0)</td>\n",
       "      <td>(48, 1.0)</td>\n",
       "      <td>(72, nan)</td>\n",
       "      <td>(3284, 1.0)</td>\n",
       "      <td>(75, 1.0)</td>\n",
       "      <td>(80, nan)</td>\n",
       "      <td>(830, 1.0)</td>\n",
       "      <td>(331, 1.0)</td>\n",
       "      <td>(66, nan)</td>\n",
       "      <td>(3678, 1.0)</td>\n",
       "      <td>(6911, 1.0)</td>\n",
       "      <td>(830, 1.0)</td>\n",
       "      <td>(52, nan)</td>\n",
       "      <td>(354, 1.0)</td>\n",
       "      <td>(293, 1.0)</td>\n",
       "      <td>(1130, 1.0)</td>\n",
       "      <td>(66, 1.0)</td>\n",
       "      <td>(74, nan)</td>\n",
       "      <td>(314, 1.0)</td>\n",
       "      <td>(361, 1.0)</td>\n",
       "      <td>(904, 1.0)</td>\n",
       "      <td>(5140, 1.0)</td>\n",
       "      <td>(157, 1.0)</td>\n",
       "      <td>(406, 1.0)</td>\n",
       "      <td>(1901, 1.0)</td>\n",
       "      <td>(1228, 1.0)</td>\n",
       "      <td>(185, 1.0)</td>\n",
       "      <td>(314, 1.0)</td>\n",
       "      <td>(56, 1.0)</td>\n",
       "      <td>(459, 1.0)</td>\n",
       "      <td>(41, nan)</td>\n",
       "      <td>(31, nan)</td>\n",
       "      <td>(103, 1.0)</td>\n",
       "      <td>(41, nan)</td>\n",
       "      <td>(524, 1.0)</td>\n",
       "      <td>(185, 1.0)</td>\n",
       "      <td>(874, 1.0)</td>\n",
       "      <td>(4495, 1.0)</td>\n",
       "      <td>(5438, 1.0)</td>\n",
       "      <td>...</td>\n",
       "      <td>(3, 0.0)</td>\n",
       "      <td>(64, nan)</td>\n",
       "      <td>(739, 1.0)</td>\n",
       "      <td>(26, 0.0)</td>\n",
       "      <td>(3, 0.0)</td>\n",
       "      <td>(3, 0.0)</td>\n",
       "      <td>(489, 1.0)</td>\n",
       "      <td>(40, nan)</td>\n",
       "      <td>(42, 0.0)</td>\n",
       "      <td>(3, 0.0)</td>\n",
       "      <td>(72, nan)</td>\n",
       "      <td>(25, 1.0)</td>\n",
       "      <td>(1401, 1.0)</td>\n",
       "      <td>(698, 1.0)</td>\n",
       "      <td>(456, 1.0)</td>\n",
       "      <td>(3, 0.0)</td>\n",
       "      <td>(1, 0.0)</td>\n",
       "      <td>(3, 0.0)</td>\n",
       "      <td>(3, 0.0)</td>\n",
       "      <td>(49, 0.0)</td>\n",
       "      <td>(74, nan)</td>\n",
       "      <td>(52, nan)</td>\n",
       "      <td>(98, nan)</td>\n",
       "      <td>(105, 1.0)</td>\n",
       "      <td>(531, 1.0)</td>\n",
       "      <td>(34, 0.0)</td>\n",
       "      <td>(42, 0.0)</td>\n",
       "      <td>(90, 1.0)</td>\n",
       "      <td>(3, 0.0)</td>\n",
       "      <td>(50, 0.0)</td>\n",
       "      <td>(8178, 1.0)</td>\n",
       "      <td>(3, 0.0)</td>\n",
       "      <td>(42, nan)</td>\n",
       "      <td>(2915, 1.0)</td>\n",
       "      <td>(3, 0.0)</td>\n",
       "      <td>(82, 1.0)</td>\n",
       "      <td>(163, 1.0)</td>\n",
       "      <td>(3, 0.0)</td>\n",
       "      <td>(205, 1.0)</td>\n",
       "      <td>(122, 1.0)</td>\n",
       "    </tr>\n",
       "    <tr>\n",
       "      <th>4</th>\n",
       "      <td>(416, 1.0)</td>\n",
       "      <td>(360, 1.0)</td>\n",
       "      <td>(66, 1.0)</td>\n",
       "      <td>(237, 1.0)</td>\n",
       "      <td>(4143, 1.0)</td>\n",
       "      <td>(98, 1.0)</td>\n",
       "      <td>(182, 1.0)</td>\n",
       "      <td>(1470, 1.0)</td>\n",
       "      <td>(345, 1.0)</td>\n",
       "      <td>(41, nan)</td>\n",
       "      <td>(4012, 1.0)</td>\n",
       "      <td>(7062, 1.0)</td>\n",
       "      <td>(1007, 1.0)</td>\n",
       "      <td>(106, 1.0)</td>\n",
       "      <td>(401, 1.0)</td>\n",
       "      <td>(331, 1.0)</td>\n",
       "      <td>(1796, 1.0)</td>\n",
       "      <td>(98, 1.0)</td>\n",
       "      <td>(677, 1.0)</td>\n",
       "      <td>(335, 1.0)</td>\n",
       "      <td>(365, 1.0)</td>\n",
       "      <td>(947, 1.0)</td>\n",
       "      <td>(5599, 1.0)</td>\n",
       "      <td>(241, 1.0)</td>\n",
       "      <td>(412, 1.0)</td>\n",
       "      <td>(2731, 1.0)</td>\n",
       "      <td>(1541, 1.0)</td>\n",
       "      <td>(240, 1.0)</td>\n",
       "      <td>(399, 1.0)</td>\n",
       "      <td>(73, 1.0)</td>\n",
       "      <td>(478, 1.0)</td>\n",
       "      <td>(2475, 1.0)</td>\n",
       "      <td>(80, nan)</td>\n",
       "      <td>(104, 1.0)</td>\n",
       "      <td>(6833, 1.0)</td>\n",
       "      <td>(631, 1.0)</td>\n",
       "      <td>(314, 1.0)</td>\n",
       "      <td>(928, 1.0)</td>\n",
       "      <td>(8193, 1.0)</td>\n",
       "      <td>(16449, 1.0)</td>\n",
       "      <td>...</td>\n",
       "      <td>(4, 0.0)</td>\n",
       "      <td>(14, 1.0)</td>\n",
       "      <td>(744, 1.0)</td>\n",
       "      <td>(30, 0.0)</td>\n",
       "      <td>(4, 0.0)</td>\n",
       "      <td>(4, 0.0)</td>\n",
       "      <td>(514, 1.0)</td>\n",
       "      <td>(23, 0.0)</td>\n",
       "      <td>(45, 0.0)</td>\n",
       "      <td>(4, 0.0)</td>\n",
       "      <td>(38, 0.0)</td>\n",
       "      <td>(33, 1.0)</td>\n",
       "      <td>(2099, 1.0)</td>\n",
       "      <td>(984, 1.0)</td>\n",
       "      <td>(477, 1.0)</td>\n",
       "      <td>(4, 0.0)</td>\n",
       "      <td>(2, 0.0)</td>\n",
       "      <td>(4, 0.0)</td>\n",
       "      <td>(4, 0.0)</td>\n",
       "      <td>(26, nan)</td>\n",
       "      <td>(33, nan)</td>\n",
       "      <td>(68, nan)</td>\n",
       "      <td>(30, 0.0)</td>\n",
       "      <td>(121, 1.0)</td>\n",
       "      <td>(1072, 1.0)</td>\n",
       "      <td>(36, nan)</td>\n",
       "      <td>(45, 0.0)</td>\n",
       "      <td>(105, 1.0)</td>\n",
       "      <td>(4, 0.0)</td>\n",
       "      <td>(54, 0.0)</td>\n",
       "      <td>(11379, 1.0)</td>\n",
       "      <td>(4, 0.0)</td>\n",
       "      <td>(11, 0.0)</td>\n",
       "      <td>(6613, 1.0)</td>\n",
       "      <td>(4, 0.0)</td>\n",
       "      <td>(94, 1.0)</td>\n",
       "      <td>(37, nan)</td>\n",
       "      <td>(4, 0.0)</td>\n",
       "      <td>(240, 1.0)</td>\n",
       "      <td>(124, 1.0)</td>\n",
       "    </tr>\n",
       "    <tr>\n",
       "      <th>...</th>\n",
       "      <td>...</td>\n",
       "      <td>...</td>\n",
       "      <td>...</td>\n",
       "      <td>...</td>\n",
       "      <td>...</td>\n",
       "      <td>...</td>\n",
       "      <td>...</td>\n",
       "      <td>...</td>\n",
       "      <td>...</td>\n",
       "      <td>...</td>\n",
       "      <td>...</td>\n",
       "      <td>...</td>\n",
       "      <td>...</td>\n",
       "      <td>...</td>\n",
       "      <td>...</td>\n",
       "      <td>...</td>\n",
       "      <td>...</td>\n",
       "      <td>...</td>\n",
       "      <td>...</td>\n",
       "      <td>...</td>\n",
       "      <td>...</td>\n",
       "      <td>...</td>\n",
       "      <td>...</td>\n",
       "      <td>...</td>\n",
       "      <td>...</td>\n",
       "      <td>...</td>\n",
       "      <td>...</td>\n",
       "      <td>...</td>\n",
       "      <td>...</td>\n",
       "      <td>...</td>\n",
       "      <td>...</td>\n",
       "      <td>...</td>\n",
       "      <td>...</td>\n",
       "      <td>...</td>\n",
       "      <td>...</td>\n",
       "      <td>...</td>\n",
       "      <td>...</td>\n",
       "      <td>...</td>\n",
       "      <td>...</td>\n",
       "      <td>...</td>\n",
       "      <td>...</td>\n",
       "      <td>...</td>\n",
       "      <td>...</td>\n",
       "      <td>...</td>\n",
       "      <td>...</td>\n",
       "      <td>...</td>\n",
       "      <td>...</td>\n",
       "      <td>...</td>\n",
       "      <td>...</td>\n",
       "      <td>...</td>\n",
       "      <td>...</td>\n",
       "      <td>...</td>\n",
       "      <td>...</td>\n",
       "      <td>...</td>\n",
       "      <td>...</td>\n",
       "      <td>...</td>\n",
       "      <td>...</td>\n",
       "      <td>...</td>\n",
       "      <td>...</td>\n",
       "      <td>...</td>\n",
       "      <td>...</td>\n",
       "      <td>...</td>\n",
       "      <td>...</td>\n",
       "      <td>...</td>\n",
       "      <td>...</td>\n",
       "      <td>...</td>\n",
       "      <td>...</td>\n",
       "      <td>...</td>\n",
       "      <td>...</td>\n",
       "      <td>...</td>\n",
       "      <td>...</td>\n",
       "      <td>...</td>\n",
       "      <td>...</td>\n",
       "      <td>...</td>\n",
       "      <td>...</td>\n",
       "      <td>...</td>\n",
       "      <td>...</td>\n",
       "      <td>...</td>\n",
       "      <td>...</td>\n",
       "      <td>...</td>\n",
       "      <td>...</td>\n",
       "    </tr>\n",
       "    <tr>\n",
       "      <th>95</th>\n",
       "      <td>(3820, 1.0)</td>\n",
       "      <td>(64, 0.8320027955340895)</td>\n",
       "      <td>(5585, 1.0)</td>\n",
       "      <td>(31, 0.9181561700975341)</td>\n",
       "      <td>(16, 0.25155764746872633)</td>\n",
       "      <td>(361, 1.0)</td>\n",
       "      <td>(53, 0.8553989227683015)</td>\n",
       "      <td>(128, 0.35176323534072423)</td>\n",
       "      <td>(4375, 1.0)</td>\n",
       "      <td>(77, 0.4954336943068623)</td>\n",
       "      <td>(18770, 1.0)</td>\n",
       "      <td>(96, 0.6766598268720035)</td>\n",
       "      <td>(1266, 1.0)</td>\n",
       "      <td>(63, 0.7958224257542214)</td>\n",
       "      <td>(64, 0.7726438749546088)</td>\n",
       "      <td>(49, 0.9063269671749657)</td>\n",
       "      <td>(19472, 1.0)</td>\n",
       "      <td>(2891, 1.0)</td>\n",
       "      <td>(97, nan)</td>\n",
       "      <td>(4896, 1.0)</td>\n",
       "      <td>(64, 0.7071067811865475)</td>\n",
       "      <td>(1166, 1.0)</td>\n",
       "      <td>(83, 0.4884713220261342)</td>\n",
       "      <td>(17, 0.8744746321952062)</td>\n",
       "      <td>(64, 0.7248824356090754)</td>\n",
       "      <td>(16266, 1.0)</td>\n",
       "      <td>(3270, 1.0)</td>\n",
       "      <td>(39, 0.8905635565617213)</td>\n",
       "      <td>(3916, 1.0)</td>\n",
       "      <td>(87, 0.8767838958375092)</td>\n",
       "      <td>(63, 0.7173091661491635)</td>\n",
       "      <td>(95, 0.5749595745760689)</td>\n",
       "      <td>(7, 0.31376572759230825)</td>\n",
       "      <td>(2859, 1.0)</td>\n",
       "      <td>(10144, 1.0)</td>\n",
       "      <td>(7943, 1.0)</td>\n",
       "      <td>(4145, 1.0)</td>\n",
       "      <td>(26, 0.5)</td>\n",
       "      <td>(9398, 0.9486832980505138)</td>\n",
       "      <td>(97, 0.292812709064474)</td>\n",
       "      <td>...</td>\n",
       "      <td>(95, 0.0)</td>\n",
       "      <td>(97, nan)</td>\n",
       "      <td>(796, 1.0)</td>\n",
       "      <td>(87, 0.0)</td>\n",
       "      <td>(95, 0.0)</td>\n",
       "      <td>(95, 0.0)</td>\n",
       "      <td>(12984, 1.0)</td>\n",
       "      <td>(71, 0.0)</td>\n",
       "      <td>(67, 0.0)</td>\n",
       "      <td>(95, 0.0)</td>\n",
       "      <td>(67, 0.0)</td>\n",
       "      <td>(48, 0.0)</td>\n",
       "      <td>(47, 0.0)</td>\n",
       "      <td>(22, 0.0)</td>\n",
       "      <td>(12122, 1.0)</td>\n",
       "      <td>(95, 0.0)</td>\n",
       "      <td>(93, 0.0)</td>\n",
       "      <td>(95, 0.0)</td>\n",
       "      <td>(95, 0.0)</td>\n",
       "      <td>(79, 0.0)</td>\n",
       "      <td>(63, 0.0)</td>\n",
       "      <td>(87, 0.0)</td>\n",
       "      <td>(75, 0.0)</td>\n",
       "      <td>(4241, 1.0)</td>\n",
       "      <td>(20, 0.0)</td>\n",
       "      <td>(79, 0.0)</td>\n",
       "      <td>(67, 0.0)</td>\n",
       "      <td>(3812, 1.0)</td>\n",
       "      <td>(95, 0.0)</td>\n",
       "      <td>(91, 0.0)</td>\n",
       "      <td>(12538, 1.0)</td>\n",
       "      <td>(95, 0.0)</td>\n",
       "      <td>(71, 0.0)</td>\n",
       "      <td>(89, 0.0)</td>\n",
       "      <td>(95, 0.0)</td>\n",
       "      <td>(3607, 1.0)</td>\n",
       "      <td>(13, 0.0)</td>\n",
       "      <td>(95, 0.0)</td>\n",
       "      <td>(361, 1.0)</td>\n",
       "      <td>(3751, 1.0)</td>\n",
       "    </tr>\n",
       "    <tr>\n",
       "      <th>96</th>\n",
       "      <td>(3825, 1.0)</td>\n",
       "      <td>(65, 0.7196561784268114)</td>\n",
       "      <td>(5608, 1.0)</td>\n",
       "      <td>(23, 0.7745966692414834)</td>\n",
       "      <td>(69, 0.16158319218260433)</td>\n",
       "      <td>(479, 1.0)</td>\n",
       "      <td>(52, 0.8366600265340756)</td>\n",
       "      <td>(39, 0.2182178902359924)</td>\n",
       "      <td>(4382, 1.0)</td>\n",
       "      <td>(45, 0.48121773951145314)</td>\n",
       "      <td>(18815, 1.0)</td>\n",
       "      <td>(49, 0.6382847385042254)</td>\n",
       "      <td>(1294, 1.0)</td>\n",
       "      <td>(65, 0.7310863466280326)</td>\n",
       "      <td>(26, 0.7478783550139053)</td>\n",
       "      <td>(64, 0.8897565210026093)</td>\n",
       "      <td>(19534, 1.0)</td>\n",
       "      <td>(2900, 1.0)</td>\n",
       "      <td>(98, 0.7071067811865476)</td>\n",
       "      <td>(4899, 1.0)</td>\n",
       "      <td>(25, 0.5807327735918862)</td>\n",
       "      <td>(1367, 1.0)</td>\n",
       "      <td>(24, 0.35917073120944504)</td>\n",
       "      <td>(67, 0.8660254037844386)</td>\n",
       "      <td>(32, 0.6537204504606134)</td>\n",
       "      <td>(16487, 1.0)</td>\n",
       "      <td>(45, 0.9519193318115823)</td>\n",
       "      <td>(17, 0.8819171036881969)</td>\n",
       "      <td>(3924, 1.0)</td>\n",
       "      <td>(68, 0.8695968608558777)</td>\n",
       "      <td>(106, 0.7071067811865475)</td>\n",
       "      <td>(20, 0.5317175354153799)</td>\n",
       "      <td>(15, 0.3021223104415353)</td>\n",
       "      <td>(2864, 1.0)</td>\n",
       "      <td>(11596, 1.0)</td>\n",
       "      <td>(7959, 1.0)</td>\n",
       "      <td>(4170, 1.0)</td>\n",
       "      <td>(42, 0.4675157898982742)</td>\n",
       "      <td>(95, 0.7126966450997984)</td>\n",
       "      <td>(35, 0.28177225625601326)</td>\n",
       "      <td>...</td>\n",
       "      <td>(96, 0.0)</td>\n",
       "      <td>(49, 0.9045340337332909)</td>\n",
       "      <td>(824, 1.0)</td>\n",
       "      <td>(95, 0.0)</td>\n",
       "      <td>(96, 0.0)</td>\n",
       "      <td>(96, 0.0)</td>\n",
       "      <td>(13199, 1.0)</td>\n",
       "      <td>(79, 0.0)</td>\n",
       "      <td>(71, 0.0)</td>\n",
       "      <td>(96, 0.0)</td>\n",
       "      <td>(71, 0.0)</td>\n",
       "      <td>(51, 0.0)</td>\n",
       "      <td>(48, 0.0)</td>\n",
       "      <td>(23, 0.0)</td>\n",
       "      <td>(0, 0.0)</td>\n",
       "      <td>(96, 0.0)</td>\n",
       "      <td>(94, 0.0)</td>\n",
       "      <td>(96, 0.0)</td>\n",
       "      <td>(96, 0.0)</td>\n",
       "      <td>(81, 0.0)</td>\n",
       "      <td>(67, 0.0)</td>\n",
       "      <td>(95, 0.0)</td>\n",
       "      <td>(79, 0.0)</td>\n",
       "      <td>(4246, 1.0)</td>\n",
       "      <td>(21, 0.0)</td>\n",
       "      <td>(81, 0.0)</td>\n",
       "      <td>(71, 0.0)</td>\n",
       "      <td>(3875, 1.0)</td>\n",
       "      <td>(96, 0.0)</td>\n",
       "      <td>(95, 0.0)</td>\n",
       "      <td>(16288, 1.0)</td>\n",
       "      <td>(96, 0.0)</td>\n",
       "      <td>(75, 0.0)</td>\n",
       "      <td>(90, 0.0)</td>\n",
       "      <td>(96, 0.0)</td>\n",
       "      <td>(3623, 1.0)</td>\n",
       "      <td>(24, 0.0)</td>\n",
       "      <td>(96, 0.0)</td>\n",
       "      <td>(371, 1.0)</td>\n",
       "      <td>(3903, 1.0)</td>\n",
       "    </tr>\n",
       "    <tr>\n",
       "      <th>97</th>\n",
       "      <td>(3838, 1.0)</td>\n",
       "      <td>(15, 0.7062002704367264)</td>\n",
       "      <td>(5614, 1.0)</td>\n",
       "      <td>(50, 0.7071067811865475)</td>\n",
       "      <td>(38, 0.04767312946227962)</td>\n",
       "      <td>(42, 0.6395434315886251)</td>\n",
       "      <td>(101, 0.8282792473724709)</td>\n",
       "      <td>(97, nan)</td>\n",
       "      <td>(4413, 1.0)</td>\n",
       "      <td>(42, 0.4656439527062351)</td>\n",
       "      <td>(18823, 1.0)</td>\n",
       "      <td>(11, 0.6158817620514397)</td>\n",
       "      <td>(1370, 1.0)</td>\n",
       "      <td>(25, 0.6849174907329854)</td>\n",
       "      <td>(5, 0.7185000471973898)</td>\n",
       "      <td>(50, 0.8366600265340756)</td>\n",
       "      <td>(19574, 1.0)</td>\n",
       "      <td>(2955, 1.0)</td>\n",
       "      <td>(43, 0.32659863237109044)</td>\n",
       "      <td>(4953, 1.0)</td>\n",
       "      <td>(24, 0.5773502691896258)</td>\n",
       "      <td>(1630, 1.0)</td>\n",
       "      <td>(45, 0.29814239699997197)</td>\n",
       "      <td>(79, 0.8606629658238705)</td>\n",
       "      <td>(15, 0.6439951755903035)</td>\n",
       "      <td>(16622, 1.0)</td>\n",
       "      <td>(39, 0.9343531843023135)</td>\n",
       "      <td>(79, 0.8191127253467555)</td>\n",
       "      <td>(3967, 1.0)</td>\n",
       "      <td>(44, 0.8620623120464885)</td>\n",
       "      <td>(74, 0.7021978076057268)</td>\n",
       "      <td>(100, 0.5309850572224928)</td>\n",
       "      <td>(29, 0.22360679774997896)</td>\n",
       "      <td>(2892, 1.0)</td>\n",
       "      <td>(11909, 1.0)</td>\n",
       "      <td>(7976, 1.0)</td>\n",
       "      <td>(4187, 1.0)</td>\n",
       "      <td>(15, 0.4307055216465324)</td>\n",
       "      <td>(96, 0.6454040472561073)</td>\n",
       "      <td>(18, 0.266290837166864)</td>\n",
       "      <td>...</td>\n",
       "      <td>(97, 0.0)</td>\n",
       "      <td>(23, 0.0)</td>\n",
       "      <td>(1152, 1.0)</td>\n",
       "      <td>(97, nan)</td>\n",
       "      <td>(97, 0.0)</td>\n",
       "      <td>(97, 0.0)</td>\n",
       "      <td>(13263, 1.0)</td>\n",
       "      <td>(81, 0.0)</td>\n",
       "      <td>(79, 0.0)</td>\n",
       "      <td>(97, 0.0)</td>\n",
       "      <td>(79, 0.0)</td>\n",
       "      <td>(75, 0.0)</td>\n",
       "      <td>(49, 0.0)</td>\n",
       "      <td>(24, 0.0)</td>\n",
       "      <td>(2, 0.0)</td>\n",
       "      <td>(97, 0.0)</td>\n",
       "      <td>(95, 0.0)</td>\n",
       "      <td>(97, 0.0)</td>\n",
       "      <td>(97, 0.0)</td>\n",
       "      <td>(83, 0.0)</td>\n",
       "      <td>(79, 0.0)</td>\n",
       "      <td>(97, nan)</td>\n",
       "      <td>(83, 0.0)</td>\n",
       "      <td>(4352, 1.0)</td>\n",
       "      <td>(22, 0.0)</td>\n",
       "      <td>(83, 0.0)</td>\n",
       "      <td>(79, 0.0)</td>\n",
       "      <td>(3916, 1.0)</td>\n",
       "      <td>(97, 0.0)</td>\n",
       "      <td>(97, nan)</td>\n",
       "      <td>(8512, 0.7071067811865475)</td>\n",
       "      <td>(97, 0.0)</td>\n",
       "      <td>(79, 0.0)</td>\n",
       "      <td>(91, 0.0)</td>\n",
       "      <td>(97, 0.0)</td>\n",
       "      <td>(3679, 1.0)</td>\n",
       "      <td>(25, 0.0)</td>\n",
       "      <td>(97, 0.0)</td>\n",
       "      <td>(398, 1.0)</td>\n",
       "      <td>(3919, 1.0)</td>\n",
       "    </tr>\n",
       "    <tr>\n",
       "      <th>98</th>\n",
       "      <td>(3879, 1.0)</td>\n",
       "      <td>(63, 0.6779668756709595)</td>\n",
       "      <td>(5669, 1.0)</td>\n",
       "      <td>(25, 0.6276459144608478)</td>\n",
       "      <td>(31, 0.0)</td>\n",
       "      <td>(81, 0.6324555320336759)</td>\n",
       "      <td>(35, 0.8094272134003795)</td>\n",
       "      <td>(3272, 1.0)</td>\n",
       "      <td>(4445, 1.0)</td>\n",
       "      <td>(65, 0.379777262656375)</td>\n",
       "      <td>(18888, 1.0)</td>\n",
       "      <td>(98, 0.5653031006266237)</td>\n",
       "      <td>(1384, 1.0)</td>\n",
       "      <td>(42, 0.6199944060907445)</td>\n",
       "      <td>(65, 0.7048512514170658)</td>\n",
       "      <td>(52, 0.7669649888473704)</td>\n",
       "      <td>(19594, 1.0)</td>\n",
       "      <td>(2982, 1.0)</td>\n",
       "      <td>(57, 0.24019223070763068)</td>\n",
       "      <td>(4966, 1.0)</td>\n",
       "      <td>(23, 0.5139362166481446)</td>\n",
       "      <td>(1756, 1.0)</td>\n",
       "      <td>(115, 0.2522344998856972)</td>\n",
       "      <td>(43, 0.8017837257372732)</td>\n",
       "      <td>(65, 0.5262790063160037)</td>\n",
       "      <td>(16693, 1.0)</td>\n",
       "      <td>(79, 0.8599118594230731)</td>\n",
       "      <td>(64, 0.8180622201421608)</td>\n",
       "      <td>(3971, 1.0)</td>\n",
       "      <td>(8, 0.843957434319644)</td>\n",
       "      <td>(73, 0.6666666666666666)</td>\n",
       "      <td>(204, 0.5240183849312471)</td>\n",
       "      <td>(91, 0.20573359068174468)</td>\n",
       "      <td>(2893, 1.0)</td>\n",
       "      <td>(20, 0.8894991799933213)</td>\n",
       "      <td>(7998, 1.0)</td>\n",
       "      <td>(4199, 1.0)</td>\n",
       "      <td>(65, 0.41143206441766006)</td>\n",
       "      <td>(11, 0.5370861555295747)</td>\n",
       "      <td>(63, 0.26207120918047955)</td>\n",
       "      <td>...</td>\n",
       "      <td>(98, 0.0)</td>\n",
       "      <td>(51, 0.0)</td>\n",
       "      <td>(1312, 1.0)</td>\n",
       "      <td>(23, 0.0)</td>\n",
       "      <td>(98, 0.0)</td>\n",
       "      <td>(98, 0.0)</td>\n",
       "      <td>(13537, 1.0)</td>\n",
       "      <td>(83, 0.0)</td>\n",
       "      <td>(83, 0.0)</td>\n",
       "      <td>(98, 0.0)</td>\n",
       "      <td>(83, 0.0)</td>\n",
       "      <td>(83, 0.0)</td>\n",
       "      <td>(50, 0.0)</td>\n",
       "      <td>(25, 0.0)</td>\n",
       "      <td>(23, 0.0)</td>\n",
       "      <td>(98, 0.0)</td>\n",
       "      <td>(96, 0.0)</td>\n",
       "      <td>(98, 0.0)</td>\n",
       "      <td>(98, 0.0)</td>\n",
       "      <td>(89, 0.0)</td>\n",
       "      <td>(87, 0.0)</td>\n",
       "      <td>(5, 0.0)</td>\n",
       "      <td>(87, 0.0)</td>\n",
       "      <td>(27, 0.0)</td>\n",
       "      <td>(23, 0.0)</td>\n",
       "      <td>(87, 0.0)</td>\n",
       "      <td>(83, 0.0)</td>\n",
       "      <td>(3959, 1.0)</td>\n",
       "      <td>(98, 0.0)</td>\n",
       "      <td>(5, nan)</td>\n",
       "      <td>(0, 0.0)</td>\n",
       "      <td>(98, 0.0)</td>\n",
       "      <td>(83, 0.0)</td>\n",
       "      <td>(92, 0.0)</td>\n",
       "      <td>(98, 0.0)</td>\n",
       "      <td>(3, 0.0)</td>\n",
       "      <td>(51, 0.0)</td>\n",
       "      <td>(98, 0.0)</td>\n",
       "      <td>(435, 1.0)</td>\n",
       "      <td>(3962, 1.0)</td>\n",
       "    </tr>\n",
       "    <tr>\n",
       "      <th>99</th>\n",
       "      <td>(3882, 1.0)</td>\n",
       "      <td>(7, 0.6663472257737068)</td>\n",
       "      <td>(5682, 1.0)</td>\n",
       "      <td>(5, 0.0)</td>\n",
       "      <td>(75, 0.0)</td>\n",
       "      <td>(103, 0.6123724356957946)</td>\n",
       "      <td>(64, 0.7928249671720918)</td>\n",
       "      <td>(10116, 1.0)</td>\n",
       "      <td>(4462, 1.0)</td>\n",
       "      <td>(32, 0.25)</td>\n",
       "      <td>(18948, 1.0)</td>\n",
       "      <td>(91, 0.366211417330333)</td>\n",
       "      <td>(1604, 1.0)</td>\n",
       "      <td>(51, 0.0)</td>\n",
       "      <td>(91, 0.48860549015571253)</td>\n",
       "      <td>(15, 0.6915640748081247)</td>\n",
       "      <td>(19795, 1.0)</td>\n",
       "      <td>(3031, 1.0)</td>\n",
       "      <td>(49, nan)</td>\n",
       "      <td>(5001, 1.0)</td>\n",
       "      <td>(91, 0.2721655269759087)</td>\n",
       "      <td>(1994, 1.0)</td>\n",
       "      <td>(91, 0.22904001212832742)</td>\n",
       "      <td>(65, 0.6945163361480208)</td>\n",
       "      <td>(63, 0.4874543565101406)</td>\n",
       "      <td>(16696, 1.0)</td>\n",
       "      <td>(91, 0.6171631081543781)</td>\n",
       "      <td>(38, 0.5824823725107175)</td>\n",
       "      <td>(3990, 1.0)</td>\n",
       "      <td>(41, 0.5519381863844937)</td>\n",
       "      <td>(59, 0.0)</td>\n",
       "      <td>(83, 0.48320217406302857)</td>\n",
       "      <td>(27, 0.17177950029416048)</td>\n",
       "      <td>(2995, 1.0)</td>\n",
       "      <td>(83, 0.885226656858095)</td>\n",
       "      <td>(8004, 1.0)</td>\n",
       "      <td>(4241, 1.0)</td>\n",
       "      <td>(25, 0.4110365231847565)</td>\n",
       "      <td>(97, 0.5024959312842148)</td>\n",
       "      <td>(71, 0.25425669046549126)</td>\n",
       "      <td>...</td>\n",
       "      <td>(99, 0.0)</td>\n",
       "      <td>(99, 0.0)</td>\n",
       "      <td>(51, 0.0)</td>\n",
       "      <td>(5, nan)</td>\n",
       "      <td>(99, 0.0)</td>\n",
       "      <td>(99, 0.0)</td>\n",
       "      <td>(14646, 1.0)</td>\n",
       "      <td>(87, 0.0)</td>\n",
       "      <td>(87, 0.0)</td>\n",
       "      <td>(99, 0.0)</td>\n",
       "      <td>(87, 0.0)</td>\n",
       "      <td>(95, 0.0)</td>\n",
       "      <td>(51, 0.0)</td>\n",
       "      <td>(26, 0.0)</td>\n",
       "      <td>(47, 0.0)</td>\n",
       "      <td>(99, 0.0)</td>\n",
       "      <td>(97, 0.0)</td>\n",
       "      <td>(99, 0.0)</td>\n",
       "      <td>(99, 0.0)</td>\n",
       "      <td>(95, 0.0)</td>\n",
       "      <td>(24, nan)</td>\n",
       "      <td>(2, nan)</td>\n",
       "      <td>(95, 0.0)</td>\n",
       "      <td>(55, 0.0)</td>\n",
       "      <td>(24, 0.0)</td>\n",
       "      <td>(89, 0.0)</td>\n",
       "      <td>(87, 0.0)</td>\n",
       "      <td>(4011, 1.0)</td>\n",
       "      <td>(99, 0.0)</td>\n",
       "      <td>(2, 0.0)</td>\n",
       "      <td>(1, 0.0)</td>\n",
       "      <td>(99, 0.0)</td>\n",
       "      <td>(87, 0.0)</td>\n",
       "      <td>(93, 0.0)</td>\n",
       "      <td>(99, 0.0)</td>\n",
       "      <td>(75, 0.0)</td>\n",
       "      <td>(75, 0.0)</td>\n",
       "      <td>(99, 0.0)</td>\n",
       "      <td>(49, 0.0)</td>\n",
       "      <td>(4049, 1.0)</td>\n",
       "    </tr>\n",
       "  </tbody>\n",
       "</table>\n",
       "<p>100 rows × 19867 columns</p>\n",
       "</div>\n",
       "      <button class=\"colab-df-convert\" onclick=\"convertToInteractive('df-892182a8-d3ad-4e65-9809-96e99ecf81ea')\"\n",
       "              title=\"Convert this dataframe to an interactive table.\"\n",
       "              style=\"display:none;\">\n",
       "        \n",
       "  <svg xmlns=\"http://www.w3.org/2000/svg\" height=\"24px\"viewBox=\"0 0 24 24\"\n",
       "       width=\"24px\">\n",
       "    <path d=\"M0 0h24v24H0V0z\" fill=\"none\"/>\n",
       "    <path d=\"M18.56 5.44l.94 2.06.94-2.06 2.06-.94-2.06-.94-.94-2.06-.94 2.06-2.06.94zm-11 1L8.5 8.5l.94-2.06 2.06-.94-2.06-.94L8.5 2.5l-.94 2.06-2.06.94zm10 10l.94 2.06.94-2.06 2.06-.94-2.06-.94-.94-2.06-.94 2.06-2.06.94z\"/><path d=\"M17.41 7.96l-1.37-1.37c-.4-.4-.92-.59-1.43-.59-.52 0-1.04.2-1.43.59L10.3 9.45l-7.72 7.72c-.78.78-.78 2.05 0 2.83L4 21.41c.39.39.9.59 1.41.59.51 0 1.02-.2 1.41-.59l7.78-7.78 2.81-2.81c.8-.78.8-2.07 0-2.86zM5.41 20L4 18.59l7.72-7.72 1.47 1.35L5.41 20z\"/>\n",
       "  </svg>\n",
       "      </button>\n",
       "      \n",
       "  <style>\n",
       "    .colab-df-container {\n",
       "      display:flex;\n",
       "      flex-wrap:wrap;\n",
       "      gap: 12px;\n",
       "    }\n",
       "\n",
       "    .colab-df-convert {\n",
       "      background-color: #E8F0FE;\n",
       "      border: none;\n",
       "      border-radius: 50%;\n",
       "      cursor: pointer;\n",
       "      display: none;\n",
       "      fill: #1967D2;\n",
       "      height: 32px;\n",
       "      padding: 0 0 0 0;\n",
       "      width: 32px;\n",
       "    }\n",
       "\n",
       "    .colab-df-convert:hover {\n",
       "      background-color: #E2EBFA;\n",
       "      box-shadow: 0px 1px 2px rgba(60, 64, 67, 0.3), 0px 1px 3px 1px rgba(60, 64, 67, 0.15);\n",
       "      fill: #174EA6;\n",
       "    }\n",
       "\n",
       "    [theme=dark] .colab-df-convert {\n",
       "      background-color: #3B4455;\n",
       "      fill: #D2E3FC;\n",
       "    }\n",
       "\n",
       "    [theme=dark] .colab-df-convert:hover {\n",
       "      background-color: #434B5C;\n",
       "      box-shadow: 0px 1px 3px 1px rgba(0, 0, 0, 0.15);\n",
       "      filter: drop-shadow(0px 1px 2px rgba(0, 0, 0, 0.3));\n",
       "      fill: #FFFFFF;\n",
       "    }\n",
       "  </style>\n",
       "\n",
       "      <script>\n",
       "        const buttonEl =\n",
       "          document.querySelector('#df-892182a8-d3ad-4e65-9809-96e99ecf81ea button.colab-df-convert');\n",
       "        buttonEl.style.display =\n",
       "          google.colab.kernel.accessAllowed ? 'block' : 'none';\n",
       "\n",
       "        async function convertToInteractive(key) {\n",
       "          const element = document.querySelector('#df-892182a8-d3ad-4e65-9809-96e99ecf81ea');\n",
       "          const dataTable =\n",
       "            await google.colab.kernel.invokeFunction('convertToInteractive',\n",
       "                                                     [key], {});\n",
       "          if (!dataTable) return;\n",
       "\n",
       "          const docLinkHtml = 'Like what you see? Visit the ' +\n",
       "            '<a target=\"_blank\" href=https://colab.research.google.com/notebooks/data_table.ipynb>data table notebook</a>'\n",
       "            + ' to learn more about interactive tables.';\n",
       "          element.innerHTML = '';\n",
       "          dataTable['output_type'] = 'display_data';\n",
       "          await google.colab.output.renderOutput(dataTable, element);\n",
       "          const docLink = document.createElement('div');\n",
       "          docLink.innerHTML = docLinkHtml;\n",
       "          element.appendChild(docLink);\n",
       "        }\n",
       "      </script>\n",
       "    </div>\n",
       "  </div>\n",
       "  "
      ],
      "text/plain": [
       "              0                         1  ...       19916        19917\n",
       "0     (46, 1.0)                 (32, nan)  ...  (117, 1.0)    (18, 1.0)\n",
       "1    (104, 1.0)                 (46, 1.0)  ...  (121, 1.0)    (50, 1.0)\n",
       "2    (245, 1.0)                (245, 1.0)  ...  (175, 1.0)    (89, 1.0)\n",
       "3    (355, 1.0)                (309, 1.0)  ...  (205, 1.0)   (122, 1.0)\n",
       "4    (416, 1.0)                (360, 1.0)  ...  (240, 1.0)   (124, 1.0)\n",
       "..          ...                       ...  ...         ...          ...\n",
       "95  (3820, 1.0)  (64, 0.8320027955340895)  ...  (361, 1.0)  (3751, 1.0)\n",
       "96  (3825, 1.0)  (65, 0.7196561784268114)  ...  (371, 1.0)  (3903, 1.0)\n",
       "97  (3838, 1.0)  (15, 0.7062002704367264)  ...  (398, 1.0)  (3919, 1.0)\n",
       "98  (3879, 1.0)  (63, 0.6779668756709595)  ...  (435, 1.0)  (3962, 1.0)\n",
       "99  (3882, 1.0)   (7, 0.6663472257737068)  ...   (49, 0.0)  (4049, 1.0)\n",
       "\n",
       "[100 rows x 19867 columns]"
      ]
     },
     "execution_count": 16,
     "metadata": {},
     "output_type": "execute_result"
    }
   ],
   "source": [
    "neighbours = pd.read_csv(f'{path}/data/100 neighbours.csv')\n",
    "neighbours"
   ]
  }
 ],
 "metadata": {
  "accelerator": "GPU",
  "colab": {
   "background_execution": "on",
   "collapsed_sections": [],
   "machine_shape": "hm",
   "name": "Our_Recommender_System.ipynb",
   "provenance": []
  },
  "kernelspec": {
   "display_name": "Python 3 (ipykernel)",
   "language": "python",
   "name": "python3"
  },
  "language_info": {
   "codemirror_mode": {
    "name": "ipython",
    "version": 3
   },
   "file_extension": ".py",
   "mimetype": "text/x-python",
   "name": "python",
   "nbconvert_exporter": "python",
   "pygments_lexer": "ipython3",
   "version": "3.9.6"
  }
 },
 "nbformat": 4,
 "nbformat_minor": 4
}
